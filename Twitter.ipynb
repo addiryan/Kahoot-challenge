{
 "cells": [
  {
   "cell_type": "markdown",
   "metadata": {},
   "source": [
    "## Part 2 of the Data Science challenge.\n",
    "#### Create a tool that visualises different metrics for different search results on Twitter"
   ]
  },
  {
   "cell_type": "code",
   "execution_count": 1,
   "metadata": {},
   "outputs": [],
   "source": [
    "import tweepy \n",
    "import pandas as pd\n",
    "import requests\n",
    "import json"
   ]
  },
  {
   "cell_type": "code",
   "execution_count": 2,
   "metadata": {},
   "outputs": [],
   "source": [
    "def authorize_twitter_api():\n",
    "    '''read auth keys and secrets for my twitter app, returning authorized api for use to make requests'''\n",
    "    base_path = \"/home/adrian/test/Kahoot-challenge/keys/\"\n",
    "    with open(base_path + \"consumer_key.txt\") as f:\n",
    "        consumer_key = f.readline().strip()\n",
    "    with open(base_path + \"consumer_secret.txt\") as f:\n",
    "        consumer_secret = f.readline().strip()\n",
    "    with open(base_path + \"access_token.txt\") as f:\n",
    "        access_token = f.readline().strip()\n",
    "    with open(base_path + \"access_token_secret.txt\") as f:\n",
    "        access_token_secret = f.readline().strip()\n",
    "        \n",
    "    auth = tweepy.OAuthHandler(consumer_key, consumer_secret)\n",
    "    auth.set_access_token(access_token, access_token_secret)\n",
    "    \n",
    "    return tweepy.API(auth,wait_on_rate_limit=True,wait_on_rate_limit_notify=True)\n",
    "    "
   ]
  },
  {
   "cell_type": "code",
   "execution_count": null,
   "metadata": {},
   "outputs": [],
   "source": []
  },
  {
   "cell_type": "code",
   "execution_count": null,
   "metadata": {},
   "outputs": [],
   "source": []
  },
  {
   "cell_type": "code",
   "execution_count": null,
   "metadata": {},
   "outputs": [],
   "source": []
  },
  {
   "cell_type": "code",
   "execution_count": 14,
   "metadata": {},
   "outputs": [],
   "source": [
    "def get_bearer_token():\n",
    "    base_path = \"/home/adrian/test/Kahoot-challenge/keys/\"\n",
    "    with open(base_path + \"bearer_token.txt\") as f:\n",
    "        return f.readline().strip()"
   ]
  },
  {
   "cell_type": "code",
   "execution_count": 38,
   "metadata": {},
   "outputs": [],
   "source": [
    "bearer_token = get_bearer_token()\n",
    "search_count_url = \"https://api.twitter.com/2/tweets/counts/recent\"\n",
    "search_url = \"https://api.twitter.com/2/tweets/search/recent\""
   ]
  },
  {
   "cell_type": "code",
   "execution_count": 42,
   "metadata": {},
   "outputs": [],
   "source": [
    "def bearer_oauth(r):\n",
    "    \"\"\"\n",
    "    Method required by bearer token authentication.\n",
    "    \"\"\"\n",
    "\n",
    "    r.headers[\"Authorization\"] = f\"Bearer {bearer_token}\"\n",
    "    r.headers[\"User-Agent\"] = \"v2RecentTweetCountsPython,v2RecentSearchPython\"\n",
    "    return r\n",
    "\n",
    "def bearer_search_oauth(r):\n",
    "    \"\"\"\n",
    "    Method required by bearer token authentication.\n",
    "    \"\"\"\n",
    "\n",
    "    r.headers[\"Authorization\"] = f\"Bearer {bearer_token}\"\n",
    "    r.headers[\"User-Agent\"] = \"v2RecentTweetCountsPython\"\n",
    "    return r\n",
    "\n",
    "\n",
    "def connect_to_endpoint(url, params):\n",
    "    response = requests.request(\"GET\", url, auth=bearer_oauth, params=params)\n",
    "    if response.status_code != 200:\n",
    "        raise Exception(response.status_code, response.text)\n",
    "    return response.json()\n"
   ]
  },
  {
   "cell_type": "code",
   "execution_count": null,
   "metadata": {},
   "outputs": [],
   "source": []
  },
  {
   "cell_type": "code",
   "execution_count": 77,
   "metadata": {},
   "outputs": [],
   "source": [
    "# Optional params: start_time,end_time,since_id,until_id,next_token,granularity\n",
    "query_count_params = {'query': 'kahoot','granularity': 'minute'}\n",
    "query_count_object = connect_to_endpoint(search_count_url, query_count_params)"
   ]
  },
  {
   "cell_type": "markdown",
   "metadata": {},
   "source": [
    "Comment: spent way too much time converting to a date object that is filterable, the localize \"property\" of the datetime object ruined quite a bit. Found that there is a two hour difference between the data from twitter and my current time, therefore using the 5,10,15 minutes and 2 hours back in time when filtering.."
   ]
  },
  {
   "cell_type": "code",
   "execution_count": 78,
   "metadata": {},
   "outputs": [],
   "source": [
    "'''make dataframe out of query count numbers, and convert from string to timestamps'''\n",
    "df_query_count = pd.DataFrame(query_count_object[\"data\"], columns=[\"start\",\"end\",\"tweet_count\"])\n",
    "df_query_count.loc[:,\"start\"] = pd.to_datetime(df_query_count.loc[:,\"start\"],utc=True)\n",
    "df_query_count.loc[:,\"end\"] = pd.to_datetime(df_query_count.loc[:,\"end\"],utc=True)\n",
    " "
   ]
  },
  {
   "cell_type": "code",
   "execution_count": 380,
   "metadata": {},
   "outputs": [],
   "source": [
    "'''Get the search counts for the query, 1 minute, 5 minutes, 15 minutes ago and total hits'''\n",
    "time_steps = [1,5,15]\n",
    "query_count = {}\n",
    "timezone_delay = 120\n",
    "for minutes_ago in time_steps:\n",
    "    time_delta = pd.to_datetime('today') - pd.Timedelta(120 + minutes_ago, 'minutes')\n",
    "    query_count[str(minutes_ago) + \" minutes ago\"] = df_query_count[df_query_count[\"start\"] >= time_delta.tz_localize('UTC')].tweet_count.sum()    \n",
    "query_count[\"total\"] = query_count_object[\"meta\"][\"total_tweet_count\"]"
   ]
  },
  {
   "cell_type": "code",
   "execution_count": 381,
   "metadata": {
    "scrolled": false
   },
   "outputs": [
    {
     "data": {
      "text/plain": [
       "{'1 minutes ago': 0, '5 minutes ago': 0, '15 minutes ago': 0, 'total': 6264}"
      ]
     },
     "execution_count": 381,
     "metadata": {},
     "output_type": "execute_result"
    }
   ],
   "source": [
    "query_count"
   ]
  },
  {
   "cell_type": "code",
   "execution_count": 422,
   "metadata": {},
   "outputs": [],
   "source": [
    "#hack to get RFC 3339 timestamp as required by twitter\n",
    "start_time = pd.to_datetime('today') - pd.Timedelta(120 + 15, 'minutes')\n",
    "start_time = start_time.isoformat(\"T\")+\"Z\"\n",
    "\n",
    "# Optional params: start_time,end_time,since_id,until_id,max_results,next_token,\n",
    "# expansions,tweet.fields,media.fields,poll.fields,place.fields,user.fields\n",
    "search_term = \"hello world\"\n",
    "query_search_params = {'query': search_term,'tweet.fields': 'author_id,created_at','max_results':'100', 'start_time':start_time}\n"
   ]
  },
  {
   "cell_type": "code",
   "execution_count": 423,
   "metadata": {},
   "outputs": [],
   "source": [
    "'''\n",
    "Due to limitations in results for each request from API, pagination needs to be implemented. Using next_token for this.\n",
    "Will only iterate through the 1000 first results, as this should be more than enough to illustrate proof of concept\n",
    "'''\n",
    "tweets = []\n",
    "for i in range(100,1001,100):\n",
    "    query_search_object = connect_to_endpoint(search_url, query_search_params)\n",
    "    tweets.extend(query_search_object[\"data\"])\n",
    "    try: \n",
    "        next_token = query_search_object[\"meta\"]['next_token']\n",
    "        query_search_params[\"next_token\"] = query_search_object[\"meta\"][\"next_token\"]\n",
    "    except:\n",
    "        #no more content, exit loop\n",
    "        break\n",
    "    "
   ]
  },
  {
   "cell_type": "code",
   "execution_count": 424,
   "metadata": {},
   "outputs": [
    {
     "data": {
      "text/plain": [
       "105"
      ]
     },
     "execution_count": 424,
     "metadata": {},
     "output_type": "execute_result"
    }
   ],
   "source": [
    "len(tweets)"
   ]
  },
  {
   "cell_type": "code",
   "execution_count": 425,
   "metadata": {},
   "outputs": [
    {
     "data": {
      "text/plain": [
       "[{'text': 'RT @ArianaGrande: hello @nbcthevoice can september 20th hurry up please ? i love my #teamariana and i am waiting quite impatiently to be ab…',\n",
       "  'id': '1427893198861443075',\n",
       "  'author_id': '895644422859141120',\n",
       "  'created_at': '2021-08-18T07:20:42.000Z'},\n",
       " {'text': \"Hello. I am carol. Don't you want to find delicious cuisine with me around the world? I am in Spain🇪🇸. The weather now is ☁️☁️☁️☁️⛅️☁️☁️☁️☁️☁️🌧. \\n\\n I am so excited to eat🍘🍸🍧\",\n",
       "  'id': '1427893182528884736',\n",
       "  'author_id': '1114684320868732929',\n",
       "  'created_at': '2021-08-18T07:20:38.000Z'},\n",
       " {'text': 'RT @iKON_INTL: [Stan World Event]\\n\\nHello iKONICS!\\n\\nStan World will start tomorrow, Aug 19 - 11 AM KST. Download Stan World App now. Tweet w…',\n",
       "  'id': '1427893165286051843',\n",
       "  'author_id': '1382336957053865987',\n",
       "  'created_at': '2021-08-18T07:20:34.000Z'},\n",
       " {'text': 'RT @iKON_INTL: [Stan World Event]\\n\\nHello iKONICS!\\n\\nStan World will start tomorrow, Aug 19 - 11 AM KST. Download Stan World App now. Tweet w…',\n",
       "  'id': '1427893120629239808',\n",
       "  'author_id': '1124969608505544705',\n",
       "  'created_at': '2021-08-18T07:20:23.000Z'},\n",
       " {'text': 'RT @MarkoSilberhand: Hello World,\\n\\nThe young Bilbo and two of his brothers (three years ago).\\nBilbo has the light collar and sits right in…',\n",
       "  'id': '1427893101213806593',\n",
       "  'author_id': '1070220967375499265',\n",
       "  'created_at': '2021-08-18T07:20:18.000Z'},\n",
       " {'text': 'RT @iKON_INTL: [Stan World Event]\\n\\nHello iKONICS!\\n\\nStan World will start tomorrow, Aug 19 - 11 AM KST. Download Stan World App now. Tweet w…',\n",
       "  'id': '1427893081953636356',\n",
       "  'author_id': '610584575',\n",
       "  'created_at': '2021-08-18T07:20:14.000Z'},\n",
       " {'text': 'RT @AcctDiary: Hello A’TIN! \\n\\nPlease read Frequently Asked Questions (FAQs) regarding Stan World Competition\\n\\nFor other concerns/questions…',\n",
       "  'id': '1427893035031941120',\n",
       "  'author_id': '1392309656186327043',\n",
       "  'created_at': '2021-08-18T07:20:03.000Z'},\n",
       " {'text': 'RT @rachstewart_nz: Hello Twitter world ..\\n4 of my faves to begin my Twitter journey!\\nMy love for New Zealand is endless … https://t.co/wMS…',\n",
       "  'id': '1427893013158580228',\n",
       "  'author_id': '3698589794',\n",
       "  'created_at': '2021-08-18T07:19:57.000Z'},\n",
       " {'text': 'RT @radioheadfatz: 💜HELLO  I have a New DROP 💚\\n🔥THE MASK OF SURFWORLD. &lt;Vol.4&gt;🔥\\nVol.4&gt;All 6 item *EPIC 1*Common4*RARE1\\n  0.006 - 0.01 ETH…',\n",
       "  'id': '1427893009413070855',\n",
       "  'author_id': '1427444383629025292',\n",
       "  'created_at': '2021-08-18T07:19:57.000Z'},\n",
       " {'text': 'RT @downthelanebook: @r_c_hayden @KBDenney Hello @r_c_hayden \\n\\nhttps://t.co/PUwG3udtAz \\n\\n\"Paul Lafferty is a fantastic author. \\n I\\'ve read…',\n",
       "  'id': '1427892964408365059',\n",
       "  'author_id': '1117375501243420672',\n",
       "  'created_at': '2021-08-18T07:19:46.000Z'},\n",
       " {'text': 'RT @MarkoSilberhand: Hello World,\\n\\nfour years ago today I made my account.\\nThe occasion was Heather Heyer and what happened in Charlottesvi…',\n",
       "  'id': '1427892912675770372',\n",
       "  'author_id': '1070220967375499265',\n",
       "  'created_at': '2021-08-18T07:19:34.000Z'},\n",
       " {'text': 'RT @MarkoSilberhand: Hello World,\\n\\nGreetings from (running) Bilbo . . .\\n\\n🐾       💕       😊 https://t.co/lPFQ1gXag6',\n",
       "  'id': '1427892849501261825',\n",
       "  'author_id': '1070220967375499265',\n",
       "  'created_at': '2021-08-18T07:19:18.000Z'},\n",
       " {'text': 'Hello world. Welcome to another day.\\n#BeKind',\n",
       "  'id': '1427892846602883079',\n",
       "  'author_id': '196274486',\n",
       "  'created_at': '2021-08-18T07:19:18.000Z'},\n",
       " {'text': 'RT @craftonvon: @goaterisgod @FaradaysGhost @roofingandcladd @duke_ofthe @CheddarMan17 @ACPSquadron @BoardAnglo @MattHen62242427 @ChrisHE82…',\n",
       "  'id': '1427892841280385028',\n",
       "  'author_id': '1421454566839791623',\n",
       "  'created_at': '2021-08-18T07:19:16.000Z'},\n",
       " {'text': 'RT @Ilovecoffeemate: HELLO MGA KAPS! ANU NA DL NA NG STAN WORLD \\n@SB19Official\\n\\nhttps://t.co/FJnxxZ3AJL',\n",
       "  'id': '1427892765665349634',\n",
       "  'author_id': '1355061358388121603',\n",
       "  'created_at': '2021-08-18T07:18:58.000Z'},\n",
       " {'text': 'RT @MarkoSilberhand: Hello World, \\n\\nthe pictures of today make me sad and angry too . . .\\n\\nFor all those who need something positive betwee…',\n",
       "  'id': '1427892729942528006',\n",
       "  'author_id': '1070220967375499265',\n",
       "  'created_at': '2021-08-18T07:18:50.000Z'},\n",
       " {'text': 'RT @iKON_INTL: [Stan World Event]\\n\\nHello iKONICS!\\n\\nStan World will start tomorrow, Aug 19 - 11 AM KST. Download Stan World App now. Tweet w…',\n",
       "  'id': '1427892720853520384',\n",
       "  'author_id': '1319482972026793985',\n",
       "  'created_at': '2021-08-18T07:18:48.000Z'},\n",
       " {'text': 'Ladies and Gentlemen, I HAVE MY OWN MERCH!! Say hello to the say no to beans collection! Do you dislike coffee? Do you dislike people who drink coffee? LET THEM KNOW!! Get yourself some #SN2B merch and tell the world that coffee isn’t for you! https://t.co/PppVZDlbuQ',\n",
       "  'id': '1427892715421933570',\n",
       "  'author_id': '1294846583666880512',\n",
       "  'created_at': '2021-08-18T07:18:46.000Z'},\n",
       " {'text': \"RT @terraworld_work: Hello world!\\nIt's my pleasure to introduce a new project: #TerraWorld. TerraWorld is a virtual world where you can do…\",\n",
       "  'id': '1427892643376377862',\n",
       "  'author_id': '964939980937326592',\n",
       "  'created_at': '2021-08-18T07:18:29.000Z'},\n",
       " {'text': \"RT @iKON_INTL: Hello iKONICS!\\nHere's how we can earn points for iKON.\\n\\nDownload Stan World App now.\\n\\n#StanWorld\\n#iKON #아이콘 @YG_iKONIC \\n\\nhtt…\",\n",
       "  'id': '1427892641551716353',\n",
       "  'author_id': '2210546541',\n",
       "  'created_at': '2021-08-18T07:18:29.000Z'},\n",
       " {'text': 'RT @xpomorin4271: #AsianArtistShare hello, im Pomori from 🇯🇵. i like to draw daily life with plants and buildings and a little mysterious w…',\n",
       "  'id': '1427892629149163520',\n",
       "  'author_id': '826672360254169089',\n",
       "  'created_at': '2021-08-18T07:18:26.000Z'},\n",
       " {'text': \"RT @uhfeldspars: @marrisph we've heard of hello, world, now it's the new hit single, goodbye, world\",\n",
       "  'id': '1427892605812035585',\n",
       "  'author_id': '1364195654117986309',\n",
       "  'created_at': '2021-08-18T07:18:20.000Z'},\n",
       " {'text': 'RT @iKON_INTL: [Stan World Event]\\n\\nHello iKONICS!\\n\\nStan World will start tomorrow, Aug 19 - 11 AM KST. Download Stan World App now. Tweet w…',\n",
       "  'id': '1427892604222459905',\n",
       "  'author_id': '881400817357529088',\n",
       "  'created_at': '2021-08-18T07:18:20.000Z'},\n",
       " {'text': 'RT @iKON_INTL: [Stan World Event]\\n\\nHello iKONICS!\\n\\nStan World will start tomorrow, Aug 19 - 11 AM KST. Download Stan World App now. Tweet w…',\n",
       "  'id': '1427892519795257344',\n",
       "  'author_id': '2210546541',\n",
       "  'created_at': '2021-08-18T07:18:00.000Z'},\n",
       " {'text': 'RT @iKON_INTL: [Stan World Event]\\n\\nHello iKONICS!\\n\\nStan World will start tomorrow, Aug 19 - 11 AM KST. Download Stan World App now. Tweet w…',\n",
       "  'id': '1427892492188409861',\n",
       "  'author_id': '1321492372870647810',\n",
       "  'created_at': '2021-08-18T07:17:53.000Z'},\n",
       " {'text': 'RT @iKON_INTL: [Stan World Event]\\n\\nHello iKONICS!\\n\\nStan World will start tomorrow, Aug 19 - 11 AM KST. Download Stan World App now. Tweet w…',\n",
       "  'id': '1427892491471134721',\n",
       "  'author_id': '1410843858146000896',\n",
       "  'created_at': '2021-08-18T07:17:53.000Z'},\n",
       " {'text': 'RT @iKON_INTL: [Stan World Event]\\n\\nHello iKONICS!\\n\\nStan World will start tomorrow, Aug 19 - 11 AM KST. Download Stan World App now. Tweet w…',\n",
       "  'id': '1427892487364874240',\n",
       "  'author_id': '1152672718828888064',\n",
       "  'created_at': '2021-08-18T07:17:52.000Z'},\n",
       " {'text': 'RT @machinegunkelly: hello world, you fuckin suck',\n",
       "  'id': '1427892483565006855',\n",
       "  'author_id': '351682065',\n",
       "  'created_at': '2021-08-18T07:17:51.000Z'},\n",
       " {'text': \"@marrisph we've heard of hello, world, now it's the new hit single, goodbye, world\",\n",
       "  'id': '1427892455093899268',\n",
       "  'author_id': '2682170232',\n",
       "  'created_at': '2021-08-18T07:17:44.000Z'},\n",
       " {'text': 'RT @iKON_INTL: [Stan World Event]\\n\\nHello iKONICS!\\n\\nStan World will start tomorrow, Aug 19 - 11 AM KST. Download Stan World App now. Tweet w…',\n",
       "  'id': '1427892341164199939',\n",
       "  'author_id': '1231546501219913729',\n",
       "  'created_at': '2021-08-18T07:17:17.000Z'},\n",
       " {'text': \"Hello World! Here's an interesting post! https://t.co/2KOS8ieABD\",\n",
       "  'id': '1427892321551519748',\n",
       "  'author_id': '3236878307',\n",
       "  'created_at': '2021-08-18T07:17:13.000Z'},\n",
       " {'text': \"RT @iKON_INTL: Hello iKONICS!\\nHere's how we can earn points for iKON.\\n\\nDownload Stan World App now.\\n\\n#StanWorld\\n#iKON #아이콘 @YG_iKONIC \\n\\nhtt…\",\n",
       "  'id': '1427892077103226884',\n",
       "  'author_id': '1393157912592150528',\n",
       "  'created_at': '2021-08-18T07:16:14.000Z'},\n",
       " {'text': 'Hello world....\\nWatch what happened actually in #Kabul . This is human tragedy. The #Talibans take people out of there house. \\n\\nAnd the hole world is watching and do nothing\\n\\n#KabulHasFallen #Kabul_Airport #KabulLuftbruecke #Afganisthan #Afganistan #Afghanistan  #KabulFalls https://t.co/Uujwh7t5OJ',\n",
       "  'id': '1427892055536189441',\n",
       "  'author_id': '156975764',\n",
       "  'created_at': '2021-08-18T07:16:09.000Z'},\n",
       " {'text': 'RT @iKON_INTL: [Stan World Event]\\n\\nHello iKONICS!\\n\\nStan World will start tomorrow, Aug 19 - 11 AM KST. Download Stan World App now. Tweet w…',\n",
       "  'id': '1427892049739542528',\n",
       "  'author_id': '1393157912592150528',\n",
       "  'created_at': '2021-08-18T07:16:08.000Z'},\n",
       " {'text': 'RT @Ilovecoffeemate: HELLO MGA KAPS! ANU NA DL NA NG STAN WORLD \\n@SB19Official\\n\\nhttps://t.co/FJnxxZ3AJL',\n",
       "  'id': '1427892047202168834',\n",
       "  'author_id': '1315109832559476737',\n",
       "  'created_at': '2021-08-18T07:16:07.000Z'},\n",
       " {'text': 'RT @iKON_INTL: [Stan World Event]\\n\\nHello iKONICS!\\n\\nStan World will start tomorrow, Aug 19 - 11 AM KST. Download Stan World App now. Tweet w…',\n",
       "  'id': '1427891992109871105',\n",
       "  'author_id': '2164917655',\n",
       "  'created_at': '2021-08-18T07:15:54.000Z'},\n",
       " {'text': \"RT @abhinav_s_singh: @lufthansa just wanted to say 'Hello' to the worst possible airline in this world. We've been trying to get resolution…\",\n",
       "  'id': '1427891957959962625',\n",
       "  'author_id': '211830847',\n",
       "  'created_at': '2021-08-18T07:15:46.000Z'},\n",
       " {'text': 'RT @slimzytuks: Hello everyone,\\n\\nYourYoursTruly Store brings a wide collection of generic fragrances from around the world.\\n\\nTester Perfume…',\n",
       "  'id': '1427891951030915080',\n",
       "  'author_id': '1110847012281438208',\n",
       "  'created_at': '2021-08-18T07:15:44.000Z'},\n",
       " {'text': 'RT @Ilovecoffeemate: HELLO MGA KAPS! ANU NA DL NA NG STAN WORLD \\n@SB19Official\\n\\nhttps://t.co/FJnxxZ3AJL',\n",
       "  'id': '1427891902662135812',\n",
       "  'author_id': '1251072249601249282',\n",
       "  'created_at': '2021-08-18T07:15:33.000Z'},\n",
       " {'text': 'Hello Somi, I am a fan more surely for you but for me, you are my world.\\nYou may not read this but I would like to tell you that I love you, I support you from Argentina and in such a short time you became the most special person I have, I love you. 💕\\n\\n@somi_official_',\n",
       "  'id': '1427891883880198148',\n",
       "  'author_id': '1279636694111846400',\n",
       "  'created_at': '2021-08-18T07:15:28.000Z'},\n",
       " {'text': \"RT @terraworld_work: Hello world!\\nIt's my pleasure to introduce a new project: #TerraWorld. TerraWorld is a virtual world where you can do…\",\n",
       "  'id': '1427891869883666435',\n",
       "  'author_id': '751369187226841088',\n",
       "  'created_at': '2021-08-18T07:15:25.000Z'},\n",
       " {'text': 'RT @iKON_INTL: [Stan World Event]\\n\\nHello iKONICS!\\n\\nStan World will start tomorrow, Aug 19 - 11 AM KST. Download Stan World App now. Tweet w…',\n",
       "  'id': '1427891823976992773',\n",
       "  'author_id': '1366911476758241280',\n",
       "  'created_at': '2021-08-18T07:15:14.000Z'},\n",
       " {'text': 'RT @Ilovecoffeemate: HELLO MGA KAPS! ANU NA DL NA NG STAN WORLD \\n@SB19Official\\n\\nhttps://t.co/FJnxxZ3AJL',\n",
       "  'id': '1427891823440134146',\n",
       "  'author_id': '1365921153999540227',\n",
       "  'created_at': '2021-08-18T07:15:14.000Z'},\n",
       " {'text': 'hello world',\n",
       "  'id': '1427891768482172929',\n",
       "  'author_id': '1427891318705954825',\n",
       "  'created_at': '2021-08-18T07:15:01.000Z'},\n",
       " {'text': 'RT @iKON_INTL: [Stan World Event]\\n\\nHello iKONICS!\\n\\nStan World will start tomorrow, Aug 19 - 11 AM KST. Download Stan World App now. Tweet w…',\n",
       "  'id': '1427891745954484228',\n",
       "  'author_id': '1371268494117855233',\n",
       "  'created_at': '2021-08-18T07:14:55.000Z'},\n",
       " {'text': 'RT @iKON_INTL: [Stan World Event]\\n\\nHello iKONICS!\\n\\nStan World will start tomorrow, Aug 19 - 11 AM KST. Download Stan World App now. Tweet w…',\n",
       "  'id': '1427891734231490564',\n",
       "  'author_id': '1348666816797700097',\n",
       "  'created_at': '2021-08-18T07:14:53.000Z'},\n",
       " {'text': 'hello world , you fucken suck !',\n",
       "  'id': '1427891730775298050',\n",
       "  'author_id': '788310297597452288',\n",
       "  'created_at': '2021-08-18T07:14:52.000Z'},\n",
       " {'text': 'RT @iKON_INTL: [Stan World Event]\\n\\nHello iKONICS!\\n\\nStan World will start tomorrow, Aug 19 - 11 AM KST. Download Stan World App now. Tweet w…',\n",
       "  'id': '1427891723129131010',\n",
       "  'author_id': '936783440552136706',\n",
       "  'created_at': '2021-08-18T07:14:50.000Z'},\n",
       " {'text': 'Hello world',\n",
       "  'id': '1427891696650506241',\n",
       "  'author_id': '1427873247173873675',\n",
       "  'created_at': '2021-08-18T07:14:44.000Z'},\n",
       " {'text': 'RT @Ilovecoffeemate: HELLO MGA KAPS! ANU NA DL NA NG STAN WORLD \\n@SB19Official\\n\\nhttps://t.co/FJnxxZ3AJL',\n",
       "  'id': '1427891671061127175',\n",
       "  'author_id': '1356111220600791046',\n",
       "  'created_at': '2021-08-18T07:14:37.000Z'},\n",
       " {'text': 'RT @iKON_INTL: [Stan World Event]\\n\\nHello iKONICS!\\n\\nStan World will start tomorrow, Aug 19 - 11 AM KST. Download Stan World App now. Tweet w…',\n",
       "  'id': '1427891596742201346',\n",
       "  'author_id': '1218148353302650881',\n",
       "  'created_at': '2021-08-18T07:14:20.000Z'},\n",
       " {'text': 'RT @ttazn666: 『HELLO WORLD』在中国上映啦~\\n给动画画的前期美术设定 https://t.co/YbR5FBctDg',\n",
       "  'id': '1427891551829639169',\n",
       "  'author_id': '1312817932884475904',\n",
       "  'created_at': '2021-08-18T07:14:09.000Z'},\n",
       " {'text': 'Hello World! Listen to this song! https://t.co/T9JZvJYnFm https://t.co/6e6tvhydq4',\n",
       "  'id': '1427891547966672896',\n",
       "  'author_id': '30246008',\n",
       "  'created_at': '2021-08-18T07:14:08.000Z'},\n",
       " {'text': \"RT @iKON_INTL: Hello iKONICS!\\nHere's how we can earn points for iKON.\\n\\nDownload Stan World App now.\\n\\n#StanWorld\\n#iKON #아이콘 @YG_iKONIC \\n\\nhtt…\",\n",
       "  'id': '1427891538953007106',\n",
       "  'author_id': '1320293202939633665',\n",
       "  'created_at': '2021-08-18T07:14:06.000Z'},\n",
       " {'text': 'RT @iKON_INTL: [Stan World Event]\\n\\nHello iKONICS!\\n\\nStan World will start tomorrow, Aug 19 - 11 AM KST. Download Stan World App now. Tweet w…',\n",
       "  'id': '1427891529121615877',\n",
       "  'author_id': '1403566188123197443',\n",
       "  'created_at': '2021-08-18T07:14:04.000Z'},\n",
       " {'text': 'RT @iKON_INTL: [Stan World Event]\\n\\nHello iKONICS!\\n\\nStan World will start tomorrow, Aug 19 - 11 AM KST. Download Stan World App now. Tweet w…',\n",
       "  'id': '1427891489858678784',\n",
       "  'author_id': '603396444',\n",
       "  'created_at': '2021-08-18T07:13:54.000Z'},\n",
       " {'text': 'RT @iKON_INTL: [Stan World Event]\\n\\nHello iKONICS!\\n\\nStan World will start tomorrow, Aug 19 - 11 AM KST. Download Stan World App now. Tweet w…',\n",
       "  'id': '1427891480132128769',\n",
       "  'author_id': '1375238460181778433',\n",
       "  'created_at': '2021-08-18T07:13:52.000Z'},\n",
       " {'text': 'RT @iKON_INTL: [Stan World Event]\\n\\nHello iKONICS!\\n\\nStan World will start tomorrow, Aug 19 - 11 AM KST. Download Stan World App now. Tweet w…',\n",
       "  'id': '1427891349919965184',\n",
       "  'author_id': '1368648251897868292',\n",
       "  'created_at': '2021-08-18T07:13:21.000Z'},\n",
       " {'text': 'RT @iKON_INTL: [Stan World Event]\\n\\nHello iKONICS!\\n\\nStan World will start tomorrow, Aug 19 - 11 AM KST. Download Stan World App now. Tweet w…',\n",
       "  'id': '1427891346879107074',\n",
       "  'author_id': '1357561320233594883',\n",
       "  'created_at': '2021-08-18T07:13:20.000Z'},\n",
       " {'text': 'RT @iKON_INTL: [Stan World Event]\\n\\nHello iKONICS!\\n\\nStan World will start tomorrow, Aug 19 - 11 AM KST. Download Stan World App now. Tweet w…',\n",
       "  'id': '1427891335927767044',\n",
       "  'author_id': '1320293202939633665',\n",
       "  'created_at': '2021-08-18T07:13:18.000Z'},\n",
       " {'text': 'RT @bandori_updates: Today is the birthday of Yoshida Yuri, voice of Kitazawa Hagumi from Hello, Happy World!! https://t.co/fJr1OaO9pP',\n",
       "  'id': '1427891276792307713',\n",
       "  'author_id': '883975256255348736',\n",
       "  'created_at': '2021-08-18T07:13:03.000Z'},\n",
       " {'text': 'Hello world https://t.co/Aazp2PxphI',\n",
       "  'id': '1427891250171101190',\n",
       "  'author_id': '1284638793753133061',\n",
       "  'created_at': '2021-08-18T07:12:57.000Z'},\n",
       " {'text': \"RT @MommyNakiri: Hello sweeties! I didn't posted much stuff recently, and I want to apologize &gt;//&lt;, alsooo it's just 6 days left to my birt…\",\n",
       "  'id': '1427891245960024066',\n",
       "  'author_id': '1277888991430393857',\n",
       "  'created_at': '2021-08-18T07:12:56.000Z'},\n",
       " {'text': \"@lufthansa just wanted to say 'Hello' to the worst possible airline in this world. We've been trying to get resolution for our case. It's Covid related refund request and your agents refuse service. Lufthansa being Lufthansa ☺️\",\n",
       "  'id': '1427891218231398400',\n",
       "  'author_id': '737637638610509824',\n",
       "  'created_at': '2021-08-18T07:12:50.000Z'},\n",
       " {'text': 'RT @iKON_INTL: [Stan World Event]\\n\\nHello iKONICS!\\n\\nStan World will start tomorrow, Aug 19 - 11 AM KST. Download Stan World App now. Tweet w…',\n",
       "  'id': '1427891168025534467',\n",
       "  'author_id': '1245033589260947456',\n",
       "  'created_at': '2021-08-18T07:12:38.000Z'},\n",
       " {'text': 'Hello World (1629270750)',\n",
       "  'id': '1427891145028210690',\n",
       "  'author_id': '975723499175186432',\n",
       "  'created_at': '2021-08-18T07:12:32.000Z'},\n",
       " {'text': 'RT @iKON_INTL: [Stan World Event]\\n\\nHello iKONICS!\\n\\nStan World will start tomorrow, Aug 19 - 11 AM KST. Download Stan World App now. Tweet w…',\n",
       "  'id': '1427891135687630856',\n",
       "  'author_id': '400097142',\n",
       "  'created_at': '2021-08-18T07:12:30.000Z'},\n",
       " {'text': 'RT @iKON_INTL: [Stan World Event]\\n\\nHello iKONICS!\\n\\nStan World will start tomorrow, Aug 19 - 11 AM KST. Download Stan World App now. Tweet w…',\n",
       "  'id': '1427891106478321667',\n",
       "  'author_id': '1202240071690096640',\n",
       "  'created_at': '2021-08-18T07:12:23.000Z'},\n",
       " {'text': 'RT @arjeniaxggone: Hello, everyone! 😍 Since Kim Go Eun\\'s upcoming drama \"Yumi\\'s Cells\" is already in production, together with @GgoneYeye,…',\n",
       "  'id': '1427891088912621573',\n",
       "  'author_id': '1273865081554522113',\n",
       "  'created_at': '2021-08-18T07:12:19.000Z'},\n",
       " {'text': \"RT @iKON_INTL: Hello iKONICS!\\nHere's how we can earn points for iKON.\\n\\nDownload Stan World App now.\\n\\n#StanWorld\\n#iKON #아이콘 @YG_iKONIC \\n\\nhtt…\",\n",
       "  'id': '1427891085473243143',\n",
       "  'author_id': '1358798303652048900',\n",
       "  'created_at': '2021-08-18T07:12:18.000Z'},\n",
       " {'text': 'RT @iKON_INTL: [Stan World Event]\\n\\nHello iKONICS!\\n\\nStan World will start tomorrow, Aug 19 - 11 AM KST. Download Stan World App now. Tweet w…',\n",
       "  'id': '1427890973774778370',\n",
       "  'author_id': '1360343342039506946',\n",
       "  'created_at': '2021-08-18T07:11:51.000Z'},\n",
       " {'text': 'RT @iKON_INTL: [Stan World Event]\\n\\nHello iKONICS!\\n\\nStan World will start tomorrow, Aug 19 - 11 AM KST. Download Stan World App now. Tweet w…',\n",
       "  'id': '1427890956133564421',\n",
       "  'author_id': '1358798303652048900',\n",
       "  'created_at': '2021-08-18T07:11:47.000Z'},\n",
       " {'text': 'RT @iKON_INTL: [Stan World Event]\\n\\nHello iKONICS!\\n\\nStan World will start tomorrow, Aug 19 - 11 AM KST. Download Stan World App now. Tweet w…',\n",
       "  'id': '1427890948235689992',\n",
       "  'author_id': '1101128517469626368',\n",
       "  'created_at': '2021-08-18T07:11:45.000Z'},\n",
       " {'text': 'Hello World! Listen to this song! https://t.co/XTC1t6AOsc https://t.co/6e6tvhydq4',\n",
       "  'id': '1427890945996042245',\n",
       "  'author_id': '30246008',\n",
       "  'created_at': '2021-08-18T07:11:45.000Z'},\n",
       " {'text': 'RT @iKON_INTL: [Stan World Event]\\n\\nHello iKONICS!\\n\\nStan World will start tomorrow, Aug 19 - 11 AM KST. Download Stan World App now. Tweet w…',\n",
       "  'id': '1427890926714687494',\n",
       "  'author_id': '1381549280029073411',\n",
       "  'created_at': '2021-08-18T07:11:40.000Z'},\n",
       " {'text': 'RT @iKON_INTL: [Stan World Event]\\n\\nHello iKONICS!\\n\\nStan World will start tomorrow, Aug 19 - 11 AM KST. Download Stan World App now. Tweet w…',\n",
       "  'id': '1427890922864340993',\n",
       "  'author_id': '1344983626832756736',\n",
       "  'created_at': '2021-08-18T07:11:39.000Z'},\n",
       " {'text': \"RT @terraworld_work: Hello world!\\nIt's my pleasure to introduce a new project: #TerraWorld. TerraWorld is a virtual world where you can do…\",\n",
       "  'id': '1427890921752903680',\n",
       "  'author_id': '80307859',\n",
       "  'created_at': '2021-08-18T07:11:39.000Z'},\n",
       " {'text': \"RT @terraworld_work: Hello world!\\nIt's my pleasure to introduce a new project: #TerraWorld. TerraWorld is a virtual world where you can do…\",\n",
       "  'id': '1427890878652157955',\n",
       "  'author_id': '1375633724096667651',\n",
       "  'created_at': '2021-08-18T07:11:29.000Z'},\n",
       " {'text': 'RT @AcctDiary: Hello A’TIN! \\n\\nPlease read Frequently Asked Questions (FAQs) regarding Stan World Competition\\n\\nFor other concerns/questions…',\n",
       "  'id': '1427890819793444868',\n",
       "  'author_id': '1237764230801027072',\n",
       "  'created_at': '2021-08-18T07:11:15.000Z'},\n",
       " {'text': 'RT @cellszone: Hello World!🌎\\n\\nWelcome to The #Cells Zone, a different approach to the #NFT experience!\\n\\nFollow us and discover the new worl…',\n",
       "  'id': '1427890806086643712',\n",
       "  'author_id': '1188189134151733250',\n",
       "  'created_at': '2021-08-18T07:11:11.000Z'},\n",
       " {'text': 'hello world! the random numbers are 93 and 517!',\n",
       "  'id': '1427890766211391491',\n",
       "  'author_id': '1128726096546025472',\n",
       "  'created_at': '2021-08-18T07:11:02.000Z'},\n",
       " {'text': 'RT @iKON_INTL: [Stan World Event]\\n\\nHello iKONICS!\\n\\nStan World will start tomorrow, Aug 19 - 11 AM KST. Download Stan World App now. Tweet w…',\n",
       "  'id': '1427890724117258240',\n",
       "  'author_id': '1285937435776442368',\n",
       "  'created_at': '2021-08-18T07:10:52.000Z'},\n",
       " {'text': 'RT @nelly_K4: Hello WayaDemGengs and Lovers of @RealKiddWaya who is ready to cruise with the one and only sexy, most handsome and smart mul…',\n",
       "  'id': '1427890722250887174',\n",
       "  'author_id': '1414588312740847628',\n",
       "  'created_at': '2021-08-18T07:10:51.000Z'},\n",
       " {'text': 'RT @iKON_INTL: [Stan World Event]\\n\\nHello iKONICS!\\n\\nStan World will start tomorrow, Aug 19 - 11 AM KST. Download Stan World App now. Tweet w…',\n",
       "  'id': '1427890597621239810',\n",
       "  'author_id': '1426875502430625793',\n",
       "  'created_at': '2021-08-18T07:10:22.000Z'},\n",
       " {'text': 'RT @indiohistorian: My newest plantito acquisition: Calathea Ornata. I noticed that it folds its leaves upright at night, and opens up ever…',\n",
       "  'id': '1427890543829291022',\n",
       "  'author_id': '50503854',\n",
       "  'created_at': '2021-08-18T07:10:09.000Z'},\n",
       " {'text': \"RT @terraworld_work: Hello world!\\nIt's my pleasure to introduce a new project: #TerraWorld. TerraWorld is a virtual world where you can do…\",\n",
       "  'id': '1427890476863172612',\n",
       "  'author_id': '934784822630862849',\n",
       "  'created_at': '2021-08-18T07:09:53.000Z'},\n",
       " {'text': \"RT @JamesNK: I've been super busy working on HTTP/3 for .NET 6. Its come a long way in the last month.\\n\\nWhile it's one thing to get HTTP/3…\",\n",
       "  'id': '1427890434802700292',\n",
       "  'author_id': '252273936',\n",
       "  'created_at': '2021-08-18T07:09:43.000Z'},\n",
       " {'text': \"RT @iKON_INTL: Hello iKONICS!\\nHere's how we can earn points for iKON.\\n\\nDownload Stan World App now.\\n\\n#StanWorld\\n#iKON #아이콘 @YG_iKONIC \\n\\nhtt…\",\n",
       "  'id': '1427890424128049162',\n",
       "  'author_id': '1360845904928935937',\n",
       "  'created_at': '2021-08-18T07:09:40.000Z'},\n",
       " {'text': 'RT @iKON_INTL: [Stan World Event]\\n\\nHello iKONICS!\\n\\nStan World will start tomorrow, Aug 19 - 11 AM KST. Download Stan World App now. Tweet w…',\n",
       "  'id': '1427890375851593729',\n",
       "  'author_id': '1382501103653199873',\n",
       "  'created_at': '2021-08-18T07:09:29.000Z'},\n",
       " {'text': 'RT @iKON_INTL: [Stan World Event]\\n\\nHello iKONICS!\\n\\nStan World will start tomorrow, Aug 19 - 11 AM KST. Download Stan World App now. Tweet w…',\n",
       "  'id': '1427890373016256512',\n",
       "  'author_id': '1209640371879174144',\n",
       "  'created_at': '2021-08-18T07:09:28.000Z'},\n",
       " {'text': 'RT @iKON_INTL: [Stan World Event]\\n\\nHello iKONICS!\\n\\nStan World will start tomorrow, Aug 19 - 11 AM KST. Download Stan World App now. Tweet w…',\n",
       "  'id': '1427890345044365315',\n",
       "  'author_id': '1377900936266350592',\n",
       "  'created_at': '2021-08-18T07:09:21.000Z'},\n",
       " {'text': 'RT @iKON_INTL: [Stan World Event]\\n\\nHello iKONICS!\\n\\nStan World will start tomorrow, Aug 19 - 11 AM KST. Download Stan World App now. Tweet w…',\n",
       "  'id': '1427890263125487617',\n",
       "  'author_id': '1389193972703055876',\n",
       "  'created_at': '2021-08-18T07:09:02.000Z'},\n",
       " {'text': 'RT @iKON_INTL: [Stan World Event]\\n\\nHello iKONICS!\\n\\nStan World will start tomorrow, Aug 19 - 11 AM KST. Download Stan World App now. Tweet w…',\n",
       "  'id': '1427890250517340160',\n",
       "  'author_id': '1360845904928935937',\n",
       "  'created_at': '2021-08-18T07:08:59.000Z'},\n",
       " {'text': '『天月 Hello,World! -Pro…(¥1,620)』 フリマアプリ「メルカリ」で販売中♪ https://t.co/oyRloK9DaN',\n",
       "  'id': '1427890208968638466',\n",
       "  'author_id': '1341318534',\n",
       "  'created_at': '2021-08-18T07:08:49.000Z'},\n",
       " {'text': 'Wonder what we might name the country.\\n\\nMy money is on \"Hello World\" country sha',\n",
       "  'id': '1427890141876695043',\n",
       "  'author_id': '237354103',\n",
       "  'created_at': '2021-08-18T07:08:33.000Z'},\n",
       " {'text': \"RT @terraworld_work: Hello world!\\nIt's my pleasure to introduce a new project: #TerraWorld. TerraWorld is a virtual world where you can do…\",\n",
       "  'id': '1427890100860510211',\n",
       "  'author_id': '2757310928',\n",
       "  'created_at': '2021-08-18T07:08:23.000Z'},\n",
       " {'text': 'RT @iKON_INTL: [Stan World Event]\\n\\nHello iKONICS!\\n\\nStan World will start tomorrow, Aug 19 - 11 AM KST. Download Stan World App now. Tweet w…',\n",
       "  'id': '1427890088403378184',\n",
       "  'author_id': '1268952471818301441',\n",
       "  'created_at': '2021-08-18T07:08:20.000Z'},\n",
       " {'text': 'RT @iKON_INTL: [Stan World Event]\\n\\nHello iKONICS!\\n\\nStan World will start tomorrow, Aug 19 - 11 AM KST. Download Stan World App now. Tweet w…',\n",
       "  'id': '1427890080446775297',\n",
       "  'author_id': '2872696044',\n",
       "  'created_at': '2021-08-18T07:08:18.000Z'},\n",
       " {'text': 'RT @iKON_INTL: [Stan World Event]\\n\\nHello iKONICS!\\n\\nStan World will start tomorrow, Aug 19 - 11 AM KST. Download Stan World App now. Tweet w…',\n",
       "  'id': '1427889998116704262',\n",
       "  'author_id': '873235379020644352',\n",
       "  'created_at': '2021-08-18T07:07:59.000Z'},\n",
       " {'text': 'RT @iKON_INTL: [Stan World Event]\\n\\nHello iKONICS!\\n\\nStan World will start tomorrow, Aug 19 - 11 AM KST. Download Stan World App now. Tweet w…',\n",
       "  'id': '1427889981746421761',\n",
       "  'author_id': '1427853883968135173',\n",
       "  'created_at': '2021-08-18T07:07:55.000Z'},\n",
       " {'author_id': '3307307391',\n",
       "  'id': '1427889956828110853',\n",
       "  'text': 'RT @slimzytuks: Hello everyone,\\n\\nYourYoursTruly Store brings a wide collection of generic fragrances from around the world.\\n\\nTester Perfume…',\n",
       "  'created_at': '2021-08-18T07:07:49.000Z'},\n",
       " {'author_id': '1321734812156203008',\n",
       "  'id': '1427889825634455554',\n",
       "  'text': 'Hello, glad to see you at @OnWinnerz \\nLet us introduce you to the world of gaming 🎰🎲entertainment with this nice #WelcomeBonus! 🎁⤵\\nHave fun: 🔗 https://t.co/WvfaNRZwGY\\n\\n#DepositBonus #WelcomeBonus #Promo #WinnerzOn #OnlineCasino https://t.co/hny8Nf4btV',\n",
       "  'created_at': '2021-08-18T07:07:17.000Z'},\n",
       " {'author_id': '1198371451708923904',\n",
       "  'id': '1427889781959061505',\n",
       "  'text': 'RT @AcctDiary: Hello A’TIN! \\n\\nPlease read Frequently Asked Questions (FAQs) regarding Stan World Competition\\n\\nFor other concerns/questions…',\n",
       "  'created_at': '2021-08-18T07:07:07.000Z'},\n",
       " {'author_id': '1356849690738708481',\n",
       "  'id': '1427889715550691328',\n",
       "  'text': 'RT @Ilovecoffeemate: HELLO MGA KAPS! ANU NA DL NA NG STAN WORLD \\n@SB19Official\\n\\nhttps://t.co/FJnxxZ3AJL',\n",
       "  'created_at': '2021-08-18T07:06:51.000Z'},\n",
       " {'author_id': '1080353463446327303',\n",
       "  'id': '1427889566946451457',\n",
       "  'text': 'RT @latteracha: honestly what did I even expect this is stray kids, THE stray kids, ofc this will be amazing iconic legendarly an art itsel…',\n",
       "  'created_at': '2021-08-18T07:06:16.000Z'}]"
      ]
     },
     "execution_count": 425,
     "metadata": {},
     "output_type": "execute_result"
    }
   ],
   "source": [
    "tweets"
   ]
  },
  {
   "cell_type": "code",
   "execution_count": 426,
   "metadata": {},
   "outputs": [],
   "source": [
    "df_tweets = pd.DataFrame(tweets)\n",
    "df_tweets[\"created_at\"] = pd.to_datetime(df_tweets.loc[:,\"created_at\"],utc=True)"
   ]
  },
  {
   "cell_type": "code",
   "execution_count": 427,
   "metadata": {},
   "outputs": [],
   "source": [
    "from sklearn.feature_extraction.text import CountVectorizer"
   ]
  },
  {
   "cell_type": "code",
   "execution_count": 428,
   "metadata": {},
   "outputs": [],
   "source": [
    "def get_most_frequent_words(query_word, corpus,n_words):\n",
    "    '''\n",
    "    Returns the most frequently used words from the input corpus. \n",
    "    Removes punctuation and english stop words. \n",
    "    Removing english stop words can be a weakness in some analytical tasks, and should be considered further.\n",
    "    '''\n",
    "    vectorizer = CountVectorizer(stop_words='english')\n",
    "    X = vectorizer.fit_transform(df_tweets.text.values)\n",
    "    \n",
    "    sum_words = X.sum(axis=0)\n",
    "    words_freq = [(word, sum_words[0, idx]) for word, idx in vectorizer.vocabulary_.items() if word != query_word]\n",
    "    words_freq = sorted(words_freq, key = lambda x: x[1], reverse=True)\n",
    "    return words_freq[:n_words]"
   ]
  },
  {
   "cell_type": "code",
   "execution_count": 429,
   "metadata": {},
   "outputs": [],
   "source": [
    "frequent_terms = {}\n",
    "for minutes_ago in time_steps:\n",
    "    time_delta = pd.to_datetime('today') - pd.Timedelta(120 + minutes_ago, 'minutes')\n",
    "    frequent_terms[str(minutes_ago) + \" minutes ago\"] = get_most_frequent_words(search_term,df_tweets[df_tweets[\"created_at\"] >= time_delta.tz_localize('UTC')].text.values, 10)  "
   ]
  },
  {
   "cell_type": "code",
   "execution_count": 430,
   "metadata": {},
   "outputs": [
    {
     "data": {
      "text/plain": [
       "{'1 minutes ago': [('world', 187),\n",
       "  ('stan', 140),\n",
       "  ('hello', 101),\n",
       "  ('rt', 86),\n",
       "  ('ikon_intl', 47),\n",
       "  ('ikonics', 47),\n",
       "  ('download', 47),\n",
       "  ('app', 47),\n",
       "  ('event', 42),\n",
       "  ('start', 42)],\n",
       " '5 minutes ago': [('world', 187),\n",
       "  ('stan', 140),\n",
       "  ('hello', 101),\n",
       "  ('rt', 86),\n",
       "  ('ikon_intl', 47),\n",
       "  ('ikonics', 47),\n",
       "  ('download', 47),\n",
       "  ('app', 47),\n",
       "  ('event', 42),\n",
       "  ('start', 42)],\n",
       " '15 minutes ago': [('world', 187),\n",
       "  ('stan', 140),\n",
       "  ('hello', 101),\n",
       "  ('rt', 86),\n",
       "  ('ikon_intl', 47),\n",
       "  ('ikonics', 47),\n",
       "  ('download', 47),\n",
       "  ('app', 47),\n",
       "  ('event', 42),\n",
       "  ('start', 42)]}"
      ]
     },
     "execution_count": 430,
     "metadata": {},
     "output_type": "execute_result"
    }
   ],
   "source": [
    "frequent_terms"
   ]
  },
  {
   "cell_type": "code",
   "execution_count": 431,
   "metadata": {},
   "outputs": [],
   "source": [
    "import matplotlib.pyplot as plt\n"
   ]
  },
  {
   "cell_type": "code",
   "execution_count": 439,
   "metadata": {},
   "outputs": [
    {
     "name": "stderr",
     "output_type": "stream",
     "text": [
      "/home/adrian/miniconda3/envs/dataVisualization/lib/python3.8/site-packages/seaborn/distributions.py:2619: FutureWarning: `distplot` is a deprecated function and will be removed in a future version. Please adapt your code to use either `displot` (a figure-level function with similar flexibility) or `histplot` (an axes-level function for histograms).\n",
      "  warnings.warn(msg, FutureWarning)\n",
      "/home/adrian/miniconda3/envs/dataVisualization/lib/python3.8/site-packages/seaborn/distributions.py:2657: RuntimeWarning: Mean of empty slice.\n",
      "  line, = ax.plot(a.mean(), 0)\n",
      "/home/adrian/miniconda3/envs/dataVisualization/lib/python3.8/site-packages/numpy/core/_methods.py:170: RuntimeWarning: invalid value encountered in double_scalars\n",
      "  ret = ret.dtype.type(ret / rcount)\n",
      "/home/adrian/miniconda3/envs/dataVisualization/lib/python3.8/site-packages/numpy/lib/histograms.py:905: RuntimeWarning: invalid value encountered in true_divide\n",
      "  return n/db/n.sum(), bin_edges\n",
      "/home/adrian/miniconda3/envs/dataVisualization/lib/python3.8/site-packages/pandas/core/indexing.py:1676: SettingWithCopyWarning: \n",
      "A value is trying to be set on a copy of a slice from a DataFrame.\n",
      "Try using .loc[row_indexer,col_indexer] = value instead\n",
      "\n",
      "See the caveats in the documentation: https://pandas.pydata.org/pandas-docs/stable/user_guide/indexing.html#returning-a-view-versus-a-copy\n",
      "  self._setitem_single_column(ilocs[0], value, pi)\n"
     ]
    },
    {
     "data": {
      "image/png": "[encoded data removed]",
      "text/plain": [
       "<Figure size 432x288 with 3 Axes>"
      ]
     },
     "metadata": {
      "needs_background": "light"
     },
     "output_type": "display_data"
    }
   ],
   "source": [
    "'''Filters the tweet dataframe by tweets created the last '''\n",
    "from textblob import TextBlob\n",
    "from collections import Counter\n",
    "top_tweepers = {}\n",
    "sentiment = {}\n",
    "fig, axes = plt.subplots(ncols=3, nrows=1)\n",
    "for i, minutes_ago  in enumerate(time_steps):\n",
    "    time_delta = pd.to_datetime('today') - pd.Timedelta(120 + minutes_ago, 'minutes')\n",
    "    tmp_df = df_tweets[df_tweets[\"created_at\"] >= time_delta.tz_localize('UTC')]\n",
    "    top_tweepers[str(minutes_ago) + \" minutes ago\"] = Counter(tmp_df.author_id).most_common(10)  \n",
    "    tmp_df.loc[:,[\"sentiment\"]] = tmp_df.text.apply(find_pol)\n",
    "    sns.distplot(tmp_df[\"sentiment\"], ax=axes[i])"
   ]
  },
  {
   "cell_type": "code",
   "execution_count": 414,
   "metadata": {},
   "outputs": [],
   "source": [
    "def find_pol(review):\n",
    "    return TextBlob(review).sentiment.polarity"
   ]
  },
  {
   "cell_type": "code",
   "execution_count": 404,
   "metadata": {
    "scrolled": true
   },
   "outputs": [
    {
     "data": {
      "text/plain": [
       "{'1 minutes ago': [('1245033589260947456', 1),\n",
       "  ('975723499175186432', 1),\n",
       "  ('400097142', 1),\n",
       "  ('1202240071690096640', 1),\n",
       "  ('1273865081554522113', 1),\n",
       "  ('1358798303652048900', 1)],\n",
       " '5 minutes ago': [('1358798303652048900', 2),\n",
       "  ('1360845904928935937', 2),\n",
       "  ('1245033589260947456', 1),\n",
       "  ('975723499175186432', 1),\n",
       "  ('400097142', 1),\n",
       "  ('1202240071690096640', 1),\n",
       "  ('1273865081554522113', 1),\n",
       "  ('1360343342039506946', 1),\n",
       "  ('1101128517469626368', 1),\n",
       "  ('30246008', 1)],\n",
       " '15 minutes ago': [('930007300525510657', 4),\n",
       "  ('1365146062613139457', 3),\n",
       "  ('975723499175186432', 2),\n",
       "  ('1358798303652048900', 2),\n",
       "  ('1360845904928935937', 2),\n",
       "  ('1141549078272065537', 2),\n",
       "  ('1138316081951432709', 2),\n",
       "  ('1376059345805447170', 2),\n",
       "  ('1245033589260947456', 1),\n",
       "  ('400097142', 1)]}"
      ]
     },
     "execution_count": 404,
     "metadata": {},
     "output_type": "execute_result"
    }
   ],
   "source": [
    "top_tweepers"
   ]
  },
  {
   "cell_type": "code",
   "execution_count": 415,
   "metadata": {},
   "outputs": [
    {
     "data": {
      "text/plain": [
       "{'1 minutes ago': nan, '5 minutes ago': -0.625, '15 minutes ago': 0.0}"
      ]
     },
     "execution_count": 415,
     "metadata": {},
     "output_type": "execute_result"
    }
   ],
   "source": [
    "sentiment"
   ]
  },
  {
   "cell_type": "code",
   "execution_count": 411,
   "metadata": {},
   "outputs": [
    {
     "data": {
      "text/plain": [
       "<seaborn.axisgrid.FacetGrid at 0x7f8cae957df0>"
      ]
     },
     "execution_count": 411,
     "metadata": {},
     "output_type": "execute_result"
    },
    {
     "data": {
      "image/png": "[encoded data removed]",
      "text/plain": [
       "<Figure size 360x360 with 1 Axes>"
      ]
     },
     "metadata": {
      "needs_background": "light"
     },
     "output_type": "display_data"
    }
   ],
   "source": [
    "import seaborn as sns\n",
    "sns.displot(tmp_df.sentiment)"
   ]
  },
  {
   "cell_type": "code",
   "execution_count": 406,
   "metadata": {},
   "outputs": [
    {
     "data": {
      "text/html": [
       "<div>\n",
       "<style scoped>\n",
       "    .dataframe tbody tr th:only-of-type {\n",
       "        vertical-align: middle;\n",
       "    }\n",
       "\n",
       "    .dataframe tbody tr th {\n",
       "        vertical-align: top;\n",
       "    }\n",
       "\n",
       "    .dataframe thead th {\n",
       "        text-align: right;\n",
       "    }\n",
       "</style>\n",
       "<table border=\"1\" class=\"dataframe\">\n",
       "  <thead>\n",
       "    <tr style=\"text-align: right;\">\n",
       "      <th></th>\n",
       "      <th>created_at</th>\n",
       "      <th>author_id</th>\n",
       "      <th>text</th>\n",
       "      <th>id</th>\n",
       "      <th>sentiment</th>\n",
       "    </tr>\n",
       "  </thead>\n",
       "  <tbody>\n",
       "    <tr>\n",
       "      <th>0</th>\n",
       "      <td>2021-08-18 07:12:38+00:00</td>\n",
       "      <td>1245033589260947456</td>\n",
       "      <td>RT @iKON_INTL: [Stan World Event]\\n\\nHello iKO...</td>\n",
       "      <td>1427891168025534467</td>\n",
       "      <td>-0.9375</td>\n",
       "    </tr>\n",
       "    <tr>\n",
       "      <th>1</th>\n",
       "      <td>2021-08-18 07:12:32+00:00</td>\n",
       "      <td>975723499175186432</td>\n",
       "      <td>Hello World (1629270750)</td>\n",
       "      <td>1427891145028210690</td>\n",
       "      <td>0.0000</td>\n",
       "    </tr>\n",
       "    <tr>\n",
       "      <th>2</th>\n",
       "      <td>2021-08-18 07:12:30+00:00</td>\n",
       "      <td>400097142</td>\n",
       "      <td>RT @iKON_INTL: [Stan World Event]\\n\\nHello iKO...</td>\n",
       "      <td>1427891135687630856</td>\n",
       "      <td>-0.9375</td>\n",
       "    </tr>\n",
       "    <tr>\n",
       "      <th>3</th>\n",
       "      <td>2021-08-18 07:12:23+00:00</td>\n",
       "      <td>1202240071690096640</td>\n",
       "      <td>RT @iKON_INTL: [Stan World Event]\\n\\nHello iKO...</td>\n",
       "      <td>1427891106478321667</td>\n",
       "      <td>-0.9375</td>\n",
       "    </tr>\n",
       "    <tr>\n",
       "      <th>4</th>\n",
       "      <td>2021-08-18 07:12:19+00:00</td>\n",
       "      <td>1273865081554522113</td>\n",
       "      <td>RT @arjeniaxggone: Hello, everyone! 😍 Since Ki...</td>\n",
       "      <td>1427891088912621573</td>\n",
       "      <td>0.0000</td>\n",
       "    </tr>\n",
       "    <tr>\n",
       "      <th>...</th>\n",
       "      <td>...</td>\n",
       "      <td>...</td>\n",
       "      <td>...</td>\n",
       "      <td>...</td>\n",
       "      <td>...</td>\n",
       "    </tr>\n",
       "    <tr>\n",
       "      <th>75</th>\n",
       "      <td>2021-08-18 07:00:49+00:00</td>\n",
       "      <td>442912341</td>\n",
       "      <td>RT @slimzytuks: Hello everyone,\\n\\nYourYoursTr...</td>\n",
       "      <td>1427888196893958150</td>\n",
       "      <td>-0.0500</td>\n",
       "    </tr>\n",
       "    <tr>\n",
       "      <th>76</th>\n",
       "      <td>2021-08-18 07:00:32+00:00</td>\n",
       "      <td>1393605512277610503</td>\n",
       "      <td>RT @AcctDiary: Hello A’TIN! \\n\\nPlease read Fr...</td>\n",
       "      <td>1427888125330681857</td>\n",
       "      <td>-0.0125</td>\n",
       "    </tr>\n",
       "    <tr>\n",
       "      <th>77</th>\n",
       "      <td>2021-08-18 07:00:29+00:00</td>\n",
       "      <td>1409393627873177604</td>\n",
       "      <td>Hello mga taga bluebird world\\n\\nSB19 onSRANWO...</td>\n",
       "      <td>1427888111346884610</td>\n",
       "      <td>0.0000</td>\n",
       "    </tr>\n",
       "    <tr>\n",
       "      <th>78</th>\n",
       "      <td>2021-08-18 06:58:46+00:00</td>\n",
       "      <td>1427870025419919367</td>\n",
       "      <td>Hello World!</td>\n",
       "      <td>1427887682126974977</td>\n",
       "      <td>0.0000</td>\n",
       "    </tr>\n",
       "    <tr>\n",
       "      <th>79</th>\n",
       "      <td>2021-08-18 06:58:39+00:00</td>\n",
       "      <td>1287774664354234371</td>\n",
       "      <td>RT @iKON_INTL: [Stan World Event]\\n\\nHello iKO...</td>\n",
       "      <td>1427887650514477058</td>\n",
       "      <td>-0.9375</td>\n",
       "    </tr>\n",
       "  </tbody>\n",
       "</table>\n",
       "<p>80 rows × 5 columns</p>\n",
       "</div>"
      ],
      "text/plain": [
       "                  created_at            author_id  \\\n",
       "0  2021-08-18 07:12:38+00:00  1245033589260947456   \n",
       "1  2021-08-18 07:12:32+00:00   975723499175186432   \n",
       "2  2021-08-18 07:12:30+00:00            400097142   \n",
       "3  2021-08-18 07:12:23+00:00  1202240071690096640   \n",
       "4  2021-08-18 07:12:19+00:00  1273865081554522113   \n",
       "..                       ...                  ...   \n",
       "75 2021-08-18 07:00:49+00:00            442912341   \n",
       "76 2021-08-18 07:00:32+00:00  1393605512277610503   \n",
       "77 2021-08-18 07:00:29+00:00  1409393627873177604   \n",
       "78 2021-08-18 06:58:46+00:00  1427870025419919367   \n",
       "79 2021-08-18 06:58:39+00:00  1287774664354234371   \n",
       "\n",
       "                                                 text                   id  \\\n",
       "0   RT @iKON_INTL: [Stan World Event]\\n\\nHello iKO...  1427891168025534467   \n",
       "1                            Hello World (1629270750)  1427891145028210690   \n",
       "2   RT @iKON_INTL: [Stan World Event]\\n\\nHello iKO...  1427891135687630856   \n",
       "3   RT @iKON_INTL: [Stan World Event]\\n\\nHello iKO...  1427891106478321667   \n",
       "4   RT @arjeniaxggone: Hello, everyone! 😍 Since Ki...  1427891088912621573   \n",
       "..                                                ...                  ...   \n",
       "75  RT @slimzytuks: Hello everyone,\\n\\nYourYoursTr...  1427888196893958150   \n",
       "76  RT @AcctDiary: Hello A’TIN! \\n\\nPlease read Fr...  1427888125330681857   \n",
       "77  Hello mga taga bluebird world\\n\\nSB19 onSRANWO...  1427888111346884610   \n",
       "78                                       Hello World!  1427887682126974977   \n",
       "79  RT @iKON_INTL: [Stan World Event]\\n\\nHello iKO...  1427887650514477058   \n",
       "\n",
       "    sentiment  \n",
       "0     -0.9375  \n",
       "1      0.0000  \n",
       "2     -0.9375  \n",
       "3     -0.9375  \n",
       "4      0.0000  \n",
       "..        ...  \n",
       "75    -0.0500  \n",
       "76    -0.0125  \n",
       "77     0.0000  \n",
       "78     0.0000  \n",
       "79    -0.9375  \n",
       "\n",
       "[80 rows x 5 columns]"
      ]
     },
     "execution_count": 406,
     "metadata": {},
     "output_type": "execute_result"
    }
   ],
   "source": [
    "tmp_df"
   ]
  },
  {
   "cell_type": "markdown",
   "metadata": {},
   "source": [
    "Now got all the information requested by the task, need to visualize and continuously fetch new data to updata numbers..."
   ]
  },
  {
   "cell_type": "markdown",
   "metadata": {},
   "source": [
    "### Probably some tokens that should be removed...."
   ]
  },
  {
   "cell_type": "code",
   "execution_count": null,
   "metadata": {},
   "outputs": [],
   "source": []
  },
  {
   "cell_type": "code",
   "execution_count": null,
   "metadata": {},
   "outputs": [],
   "source": []
  },
  {
   "cell_type": "code",
   "execution_count": null,
   "metadata": {},
   "outputs": [],
   "source": []
  },
  {
   "cell_type": "code",
   "execution_count": null,
   "metadata": {},
   "outputs": [],
   "source": []
  },
  {
   "cell_type": "code",
   "execution_count": 329,
   "metadata": {},
   "outputs": [],
   "source": [
    "text = TextBlob('\\n'.join(df_tweets.iloc[1:3].text))"
   ]
  },
  {
   "cell_type": "code",
   "execution_count": 333,
   "metadata": {},
   "outputs": [
    {
     "name": "stdout",
     "output_type": "stream",
     "text": [
      "R\n",
      "T\n",
      " \n",
      "@\n",
      "S\n",
      "c\n",
      "o\n",
      "t\n",
      "t\n",
      "H\n",
      "e\n",
      "c\n",
      "h\n",
      ":\n",
      " \n",
      "O\n",
      "k\n",
      "a\n",
      "y\n",
      " \n",
      "g\n",
      "r\n",
      "e\n",
      "a\n",
      "t\n",
      " \n",
      "*\n",
      "b\n",
      "u\n",
      "t\n",
      " \n",
      "o\n",
      "n\n",
      "l\n",
      "y\n",
      " \n",
      "1\n",
      "0\n",
      "!\n",
      "!\n",
      "!\n",
      "!\n",
      "!\n",
      "?\n",
      "?\n",
      "?\n",
      "?\n",
      "?\n",
      " \n",
      "S\n",
      "h\n",
      "o\n",
      "u\n",
      "l\n",
      "d\n",
      " \n",
      "b\n",
      "e\n",
      " \n",
      "t\n",
      "h\n",
      "o\n",
      "u\n",
      "s\n",
      "a\n",
      "n\n",
      "d\n",
      "s\n",
      ".\n",
      "\n",
      "\n",
      "@\n",
      "S\n",
      "k\n",
      "z\n",
      "H\n",
      "y\n",
      "u\n",
      "n\n",
      "j\n",
      "i\n",
      "n\n",
      "S\n",
      "t\n",
      "a\n",
      "y\n",
      "8\n",
      " \n",
      "H\n",
      "A\n",
      "P\n",
      "P\n",
      "Y\n",
      " \n",
      "B\n",
      "I\n",
      "R\n",
      "T\n",
      "H\n",
      "D\n",
      "A\n",
      "Y\n",
      " \n",
      "S\n",
      "K\n",
      "Y\n",
      "🥳\n",
      "❤\n",
      "️\n",
      "H\n",
      "o\n",
      "p\n",
      "e\n",
      " \n",
      "y\n",
      "o\n",
      "u\n",
      " \n",
      "h\n",
      "a\n",
      "v\n",
      "e\n",
      " \n",
      "a\n",
      " \n",
      "g\n",
      "r\n",
      "e\n",
      "a\n",
      "t\n",
      " \n",
      "d\n",
      "a\n",
      "y\n",
      " \n",
      "🕺\n",
      "🏾\n",
      "🥳\n",
      "!\n"
     ]
    }
   ],
   "source": [
    "for sentence in text:\n",
    "    print(sentence)"
   ]
  },
  {
   "cell_type": "code",
   "execution_count": 330,
   "metadata": {},
   "outputs": [
    {
     "data": {
      "text/plain": [
       "Sentiment(polarity=0.62, subjectivity=0.8)"
      ]
     },
     "execution_count": 330,
     "metadata": {},
     "output_type": "execute_result"
    }
   ],
   "source": [
    "text.sentiment"
   ]
  },
  {
   "cell_type": "code",
   "execution_count": 331,
   "metadata": {},
   "outputs": [
    {
     "data": {
      "text/plain": [
       "TextBlob(\"RT @ScottHech: Okay great *but only 10!!!!!????? Should be thousands.\n",
       "@SkzHyunjinStay8 HAPPY BIRTHDAY SKY🥳❤️Hope you have a great day 🕺🏾🥳!\")"
      ]
     },
     "execution_count": 331,
     "metadata": {},
     "output_type": "execute_result"
    }
   ],
   "source": [
    "text"
   ]
  },
  {
   "cell_type": "code",
   "execution_count": 259,
   "metadata": {},
   "outputs": [
    {
     "data": {
      "text/plain": [
       "Sentiment(polarity=0.35, subjectivity=0.65)"
      ]
     },
     "execution_count": 259,
     "metadata": {},
     "output_type": "execute_result"
    }
   ],
   "source": [
    "text.sentiment"
   ]
  },
  {
   "cell_type": "code",
   "execution_count": null,
   "metadata": {},
   "outputs": [],
   "source": []
  },
  {
   "cell_type": "code",
   "execution_count": null,
   "metadata": {},
   "outputs": [],
   "source": []
  },
  {
   "cell_type": "code",
   "execution_count": null,
   "metadata": {},
   "outputs": [],
   "source": []
  },
  {
   "cell_type": "code",
   "execution_count": 3,
   "metadata": {},
   "outputs": [],
   "source": [
    "api = authorize_twitter_api()"
   ]
  },
  {
   "cell_type": "code",
   "execution_count": 4,
   "metadata": {},
   "outputs": [],
   "source": [
    "class MyStreamListener(tweepy.StreamListener):\n",
    "    \n",
    "    def on_status(self, status):\n",
    "        print(status.text)\n",
    "    def on_error(self, status_code):\n",
    "        if status_code == 420:\n",
    "            #returning False in on_error disconnects the stream\n",
    "            return False"
   ]
  },
  {
   "cell_type": "code",
   "execution_count": null,
   "metadata": {},
   "outputs": [],
   "source": []
  },
  {
   "cell_type": "code",
   "execution_count": 18,
   "metadata": {},
   "outputs": [],
   "source": [
    "myStreamListener = MyStreamListener()\n",
    "myStream = tweepy.Stream(auth = api.auth, listener=myStreamListener)"
   ]
  },
  {
   "cell_type": "code",
   "execution_count": 21,
   "metadata": {},
   "outputs": [
    {
     "name": "stderr",
     "output_type": "stream",
     "text": [
      "Rate limit reached. Sleeping for: 256\n"
     ]
    },
    {
     "ename": "KeyboardInterrupt",
     "evalue": "",
     "output_type": "error",
     "traceback": [
      "\u001b[0;31m---------------------------------------------------------------------------\u001b[0m",
      "\u001b[0;31mKeyboardInterrupt\u001b[0m                         Traceback (most recent call last)",
      "\u001b[0;32m<ipython-input-21-0dd55518b9c3>\u001b[0m in \u001b[0;36m<module>\u001b[0;34m\u001b[0m\n\u001b[1;32m      1\u001b[0m \u001b[0mtweets\u001b[0m \u001b[0;34m=\u001b[0m \u001b[0;34m[\u001b[0m\u001b[0;34m]\u001b[0m\u001b[0;34m\u001b[0m\u001b[0;34m\u001b[0m\u001b[0m\n\u001b[0;32m----> 2\u001b[0;31m \u001b[0;32mfor\u001b[0m \u001b[0mpage\u001b[0m \u001b[0;32min\u001b[0m \u001b[0mtweepy\u001b[0m\u001b[0;34m.\u001b[0m\u001b[0mCursor\u001b[0m\u001b[0;34m(\u001b[0m\u001b[0mapi\u001b[0m\u001b[0;34m.\u001b[0m\u001b[0msearch\u001b[0m\u001b[0;34m,\u001b[0m \u001b[0mq\u001b[0m\u001b[0;34m=\u001b[0m\u001b[0;34m'hello'\u001b[0m\u001b[0;34m,\u001b[0m \u001b[0mcount\u001b[0m\u001b[0;34m=\u001b[0m\u001b[0;36m100\u001b[0m\u001b[0;34m,\u001b[0m \u001b[0mresult_type\u001b[0m\u001b[0;34m=\u001b[0m\u001b[0;34m\"recent\"\u001b[0m\u001b[0;34m,\u001b[0m\u001b[0mtweet_mode\u001b[0m\u001b[0;34m=\u001b[0m\u001b[0;34m'extended'\u001b[0m\u001b[0;34m)\u001b[0m\u001b[0;34m.\u001b[0m\u001b[0mpages\u001b[0m\u001b[0;34m(\u001b[0m\u001b[0;36m10\u001b[0m\u001b[0;34m)\u001b[0m\u001b[0;34m:\u001b[0m\u001b[0;34m\u001b[0m\u001b[0;34m\u001b[0m\u001b[0m\n\u001b[0m\u001b[1;32m      3\u001b[0m     \u001b[0mtweets\u001b[0m\u001b[0;34m.\u001b[0m\u001b[0mextend\u001b[0m\u001b[0;34m(\u001b[0m\u001b[0;34m[\u001b[0m\u001b[0mstatus\u001b[0m\u001b[0;34m.\u001b[0m\u001b[0m_json\u001b[0m \u001b[0;32mfor\u001b[0m \u001b[0mstatus\u001b[0m \u001b[0;32min\u001b[0m \u001b[0mpage\u001b[0m\u001b[0;34m]\u001b[0m\u001b[0;34m)\u001b[0m\u001b[0;34m\u001b[0m\u001b[0;34m\u001b[0m\u001b[0m\n",
      "\u001b[0;32m~/miniconda3/envs/dataVisualization/lib/python3.8/site-packages/tweepy/cursor.py\u001b[0m in \u001b[0;36m__next__\u001b[0;34m(self)\u001b[0m\n\u001b[1;32m     49\u001b[0m \u001b[0;34m\u001b[0m\u001b[0m\n\u001b[1;32m     50\u001b[0m     \u001b[0;32mdef\u001b[0m \u001b[0m__next__\u001b[0m\u001b[0;34m(\u001b[0m\u001b[0mself\u001b[0m\u001b[0;34m)\u001b[0m\u001b[0;34m:\u001b[0m\u001b[0;34m\u001b[0m\u001b[0;34m\u001b[0m\u001b[0m\n\u001b[0;32m---> 51\u001b[0;31m         \u001b[0;32mreturn\u001b[0m \u001b[0mself\u001b[0m\u001b[0;34m.\u001b[0m\u001b[0mnext\u001b[0m\u001b[0;34m(\u001b[0m\u001b[0;34m)\u001b[0m\u001b[0;34m\u001b[0m\u001b[0;34m\u001b[0m\u001b[0m\n\u001b[0m\u001b[1;32m     52\u001b[0m \u001b[0;34m\u001b[0m\u001b[0m\n\u001b[1;32m     53\u001b[0m     \u001b[0;32mdef\u001b[0m \u001b[0mnext\u001b[0m\u001b[0;34m(\u001b[0m\u001b[0mself\u001b[0m\u001b[0;34m)\u001b[0m\u001b[0;34m:\u001b[0m\u001b[0;34m\u001b[0m\u001b[0;34m\u001b[0m\u001b[0m\n",
      "\u001b[0;32m~/miniconda3/envs/dataVisualization/lib/python3.8/site-packages/tweepy/cursor.py\u001b[0m in \u001b[0;36mnext\u001b[0;34m(self)\u001b[0m\n\u001b[1;32m    130\u001b[0m \u001b[0;34m\u001b[0m\u001b[0m\n\u001b[1;32m    131\u001b[0m         \u001b[0;32mif\u001b[0m \u001b[0mself\u001b[0m\u001b[0;34m.\u001b[0m\u001b[0mindex\u001b[0m \u001b[0;34m>=\u001b[0m \u001b[0mlen\u001b[0m\u001b[0;34m(\u001b[0m\u001b[0mself\u001b[0m\u001b[0;34m.\u001b[0m\u001b[0mresults\u001b[0m\u001b[0;34m)\u001b[0m \u001b[0;34m-\u001b[0m \u001b[0;36m1\u001b[0m\u001b[0;34m:\u001b[0m\u001b[0;34m\u001b[0m\u001b[0;34m\u001b[0m\u001b[0m\n\u001b[0;32m--> 132\u001b[0;31m             \u001b[0mdata\u001b[0m \u001b[0;34m=\u001b[0m \u001b[0mself\u001b[0m\u001b[0;34m.\u001b[0m\u001b[0mmethod\u001b[0m\u001b[0;34m(\u001b[0m\u001b[0mmax_id\u001b[0m\u001b[0;34m=\u001b[0m\u001b[0mself\u001b[0m\u001b[0;34m.\u001b[0m\u001b[0mmax_id\u001b[0m\u001b[0;34m,\u001b[0m \u001b[0mparser\u001b[0m\u001b[0;34m=\u001b[0m\u001b[0mRawParser\u001b[0m\u001b[0;34m(\u001b[0m\u001b[0;34m)\u001b[0m\u001b[0;34m,\u001b[0m \u001b[0;34m*\u001b[0m\u001b[0mself\u001b[0m\u001b[0;34m.\u001b[0m\u001b[0margs\u001b[0m\u001b[0;34m,\u001b[0m \u001b[0;34m**\u001b[0m\u001b[0mself\u001b[0m\u001b[0;34m.\u001b[0m\u001b[0mkwargs\u001b[0m\u001b[0;34m)\u001b[0m\u001b[0;34m\u001b[0m\u001b[0;34m\u001b[0m\u001b[0m\n\u001b[0m\u001b[1;32m    133\u001b[0m \u001b[0;34m\u001b[0m\u001b[0m\n\u001b[1;32m    134\u001b[0m             \u001b[0;32mif\u001b[0m \u001b[0mhasattr\u001b[0m\u001b[0;34m(\u001b[0m\u001b[0mself\u001b[0m\u001b[0;34m.\u001b[0m\u001b[0mmethod\u001b[0m\u001b[0;34m,\u001b[0m \u001b[0;34m'__self__'\u001b[0m\u001b[0;34m)\u001b[0m\u001b[0;34m:\u001b[0m\u001b[0;34m\u001b[0m\u001b[0;34m\u001b[0m\u001b[0m\n",
      "\u001b[0;32m~/miniconda3/envs/dataVisualization/lib/python3.8/site-packages/tweepy/binder.py\u001b[0m in \u001b[0;36m_call\u001b[0;34m(*args, **kwargs)\u001b[0m\n\u001b[1;32m    251\u001b[0m                 \u001b[0;32mreturn\u001b[0m \u001b[0mmethod\u001b[0m\u001b[0;34m\u001b[0m\u001b[0;34m\u001b[0m\u001b[0m\n\u001b[1;32m    252\u001b[0m             \u001b[0;32melse\u001b[0m\u001b[0;34m:\u001b[0m\u001b[0;34m\u001b[0m\u001b[0;34m\u001b[0m\u001b[0m\n\u001b[0;32m--> 253\u001b[0;31m                 \u001b[0;32mreturn\u001b[0m \u001b[0mmethod\u001b[0m\u001b[0;34m.\u001b[0m\u001b[0mexecute\u001b[0m\u001b[0;34m(\u001b[0m\u001b[0;34m)\u001b[0m\u001b[0;34m\u001b[0m\u001b[0;34m\u001b[0m\u001b[0m\n\u001b[0m\u001b[1;32m    254\u001b[0m         \u001b[0;32mfinally\u001b[0m\u001b[0;34m:\u001b[0m\u001b[0;34m\u001b[0m\u001b[0;34m\u001b[0m\u001b[0m\n\u001b[1;32m    255\u001b[0m             \u001b[0mmethod\u001b[0m\u001b[0;34m.\u001b[0m\u001b[0msession\u001b[0m\u001b[0;34m.\u001b[0m\u001b[0mclose\u001b[0m\u001b[0;34m(\u001b[0m\u001b[0;34m)\u001b[0m\u001b[0;34m\u001b[0m\u001b[0;34m\u001b[0m\u001b[0m\n",
      "\u001b[0;32m~/miniconda3/envs/dataVisualization/lib/python3.8/site-packages/tweepy/binder.py\u001b[0m in \u001b[0;36mexecute\u001b[0;34m(self)\u001b[0m\n\u001b[1;32m    161\u001b[0m                                     \u001b[0;32mif\u001b[0m \u001b[0mself\u001b[0m\u001b[0;34m.\u001b[0m\u001b[0mwait_on_rate_limit_notify\u001b[0m\u001b[0;34m:\u001b[0m\u001b[0;34m\u001b[0m\u001b[0;34m\u001b[0m\u001b[0m\n\u001b[1;32m    162\u001b[0m                                         \u001b[0mlog\u001b[0m\u001b[0;34m.\u001b[0m\u001b[0mwarning\u001b[0m\u001b[0;34m(\u001b[0m\u001b[0;34m\"Rate limit reached. Sleeping for: %d\"\u001b[0m \u001b[0;34m%\u001b[0m \u001b[0msleep_time\u001b[0m\u001b[0;34m)\u001b[0m\u001b[0;34m\u001b[0m\u001b[0;34m\u001b[0m\u001b[0m\n\u001b[0;32m--> 163\u001b[0;31m                                     \u001b[0mtime\u001b[0m\u001b[0;34m.\u001b[0m\u001b[0msleep\u001b[0m\u001b[0;34m(\u001b[0m\u001b[0msleep_time\u001b[0m \u001b[0;34m+\u001b[0m \u001b[0;36m5\u001b[0m\u001b[0;34m)\u001b[0m  \u001b[0;31m# sleep for few extra sec\u001b[0m\u001b[0;34m\u001b[0m\u001b[0;34m\u001b[0m\u001b[0m\n\u001b[0m\u001b[1;32m    164\u001b[0m \u001b[0;34m\u001b[0m\u001b[0m\n\u001b[1;32m    165\u001b[0m                 \u001b[0;31m# if self.wait_on_rate_limit and self._reset_time is not None and \\\u001b[0m\u001b[0;34m\u001b[0m\u001b[0;34m\u001b[0m\u001b[0;34m\u001b[0m\u001b[0m\n",
      "\u001b[0;31mKeyboardInterrupt\u001b[0m: "
     ]
    }
   ],
   "source": [
    "tweets = []\n",
    "for page in tweepy.Cursor(api.search, q='hello', count=100, result_type=\"recent\",tweet_mode='extended').pages(10):\n",
    "    tweets.extend([status._json for status in page])"
   ]
  },
  {
   "cell_type": "code",
   "execution_count": 22,
   "metadata": {},
   "outputs": [],
   "source": [
    "import requests\n",
    "import os\n",
    "import json"
   ]
  },
  {
   "cell_type": "code",
   "execution_count": null,
   "metadata": {},
   "outputs": [],
   "source": []
  }
 ],
 "metadata": {
  "kernelspec": {
   "display_name": "Python 3",
   "language": "python",
   "name": "python3"
  },
  "language_info": {
   "codemirror_mode": {
    "name": "ipython",
    "version": 3
   },
   "file_extension": ".py",
   "mimetype": "text/x-python",
   "name": "python",
   "nbconvert_exporter": "python",
   "pygments_lexer": "ipython3",
   "version": "3.8.5"
  }
 },
 "nbformat": 4,
 "nbformat_minor": 4
}
