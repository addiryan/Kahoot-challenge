{
 "cells": [
  {
   "cell_type": "markdown",
   "metadata": {},
   "source": [
    "<img src=\"Kahoot_Logo.svg.png\">"
   ]
  },
  {
   "cell_type": "code",
   "execution_count": 1,
   "metadata": {
    "scrolled": true
   },
   "outputs": [
    {
     "data": {
      "text/html": [
       "\n",
       "        <script>\n",
       "            function code_toggle_14637311252578454861() {\n",
       "                $('div.cell.code_cell.rendered.selected').find('div.input').toggle();\n",
       "            }\n",
       "\n",
       "            \n",
       "        </script>\n",
       "\n",
       "        <a href=\"javascript:code_toggle_14637311252578454861()\">+</a>\n",
       "    "
      ],
      "text/plain": [
       "<IPython.core.display.HTML object>"
      ]
     },
     "execution_count": 1,
     "metadata": {},
     "output_type": "execute_result"
    }
   ],
   "source": [
    "from IPython.display import HTML\n",
    "import random\n",
    "\n",
    "def hide_toggle(for_next=False):\n",
    "    this_cell = \"\"\"$('div.cell.code_cell.rendered.selected')\"\"\"\n",
    "    next_cell = this_cell + '.next()'\n",
    "\n",
    "    toggle_text = '+'  # text shown on toggle link\n",
    "    target_cell = this_cell  # target cell to control with toggle\n",
    "    js_hide_current = ''  # bit of JS to permanently hide code in current cell (only when toggling next cell)\n",
    "\n",
    "    if for_next:\n",
    "        target_cell = next_cell\n",
    "        toggle_text += ' next cell'\n",
    "        js_hide_current = this_cell + '.find(\"div.input\").hide();'\n",
    "\n",
    "    js_f_name = 'code_toggle_{}'.format(str(random.randint(1,2**64)))\n",
    "\n",
    "    html = \"\"\"\n",
    "        <script>\n",
    "            function {f_name}() {{\n",
    "                {cell_selector}.find('div.input').toggle();\n",
    "            }}\n",
    "\n",
    "            {js_hide_current}\n",
    "        </script>\n",
    "\n",
    "        <a href=\"javascript:{f_name}()\">{toggle_text}</a>\n",
    "    \"\"\".format(\n",
    "        f_name=js_f_name,\n",
    "        cell_selector=target_cell,\n",
    "        js_hide_current=js_hide_current, \n",
    "        toggle_text=toggle_text\n",
    "    )\n",
    "\n",
    "    return HTML(html)\n",
    "hide_toggle()"
   ]
  },
  {
   "cell_type": "markdown",
   "metadata": {},
   "source": [
    "# Who are our users? \n",
    "A closer look at the user base of Kahoot..."
   ]
  },
  {
   "cell_type": "code",
   "execution_count": 2,
   "metadata": {
    "hide_input": true,
    "scrolled": false
   },
   "outputs": [
    {
     "data": {
      "text/html": [
       "\n",
       "        <script>\n",
       "            function code_toggle_16157333656737225779() {\n",
       "                $('div.cell.code_cell.rendered.selected').find('div.input').toggle();\n",
       "            }\n",
       "\n",
       "            \n",
       "        </script>\n",
       "\n",
       "        <a href=\"javascript:code_toggle_16157333656737225779()\">+</a>\n",
       "    "
      ],
      "text/plain": [
       "<IPython.core.display.HTML object>"
      ]
     },
     "execution_count": 2,
     "metadata": {},
     "output_type": "execute_result"
    }
   ],
   "source": [
    "import pandas as pd\n",
    "import numpy as np\n",
    "import plotly.express as px\n",
    "import plotly.graph_objects as go\n",
    "from collections import Counter\n",
    "from wordcloud import WordCloud\n",
    "hide_toggle()"
   ]
  },
  {
   "cell_type": "code",
   "execution_count": 3,
   "metadata": {},
   "outputs": [
    {
     "data": {
      "text/html": [
       "\n",
       "        <script>\n",
       "            function code_toggle_638458399408612461() {\n",
       "                $('div.cell.code_cell.rendered.selected').find('div.input').toggle();\n",
       "            }\n",
       "\n",
       "            \n",
       "        </script>\n",
       "\n",
       "        <a href=\"javascript:code_toggle_638458399408612461()\">+</a>\n",
       "    "
      ],
      "text/plain": [
       "<IPython.core.display.HTML object>"
      ]
     },
     "execution_count": 3,
     "metadata": {},
     "output_type": "execute_result"
    }
   ],
   "source": [
    "path = \"/home/adrian/test/Kahoot-challenge/data/part_3/users.csv\"\n",
    "df_users = pd.read_csv(path,index_col=[\"user_id\"])\n",
    "hide_toggle()"
   ]
  },
  {
   "cell_type": "markdown",
   "metadata": {},
   "source": [
    "### Where are they from?"
   ]
  },
  {
   "cell_type": "code",
   "execution_count": 4,
   "metadata": {
    "scrolled": true,
    "tags": [
     "hidecode"
    ]
   },
   "outputs": [
    {
     "name": "stdout",
     "output_type": "stream",
     "text": [
      "Kahoot was played in 100 countries within the selected week ! \n"
     ]
    },
    {
     "data": {
      "text/html": [
       "\n",
       "        <script>\n",
       "            function code_toggle_11665923424393453672() {\n",
       "                $('div.cell.code_cell.rendered.selected').find('div.input').toggle();\n",
       "            }\n",
       "\n",
       "            \n",
       "        </script>\n",
       "\n",
       "        <a href=\"javascript:code_toggle_11665923424393453672()\">+</a>\n",
       "    "
      ],
      "text/plain": [
       "<IPython.core.display.HTML object>"
      ]
     },
     "execution_count": 4,
     "metadata": {},
     "output_type": "execute_result"
    }
   ],
   "source": [
    "print(f\"Kahoot was played in {df_users.country.unique().shape[0]} countries within the selected week ! \")\n",
    "hide_toggle()"
   ]
  },
  {
   "cell_type": "markdown",
   "metadata": {},
   "source": [
    "##### Kahoot truly is a global company, with players spanning the United States, all through Europe, India, Asia and even Greenland! \n",
    "\n",
    "##### However, there are big differences when it comes to what countries Kahoot really stands out.. Let us have a closer look at how countries rank by number of users:"
   ]
  },
  {
   "cell_type": "code",
   "execution_count": 5,
   "metadata": {
    "scrolled": false,
    "tags": [
     "hidecode"
    ]
   },
   "outputs": [
    {
     "data": {
      "image/png": "[encoded data removed]",
      "text/plain": [
       "<PIL.Image.Image image mode=RGB size=800x480 at 0x7F07F4E14520>"
      ]
     },
     "metadata": {},
     "output_type": "display_data"
    },
    {
     "data": {
      "text/html": [
       "\n",
       "        <script>\n",
       "            function code_toggle_3946213054410272198() {\n",
       "                $('div.cell.code_cell.rendered.selected').find('div.input').toggle();\n",
       "            }\n",
       "\n",
       "            \n",
       "        </script>\n",
       "\n",
       "        <a href=\"javascript:code_toggle_3946213054410272198()\">+</a>\n",
       "    "
      ],
      "text/plain": [
       "<IPython.core.display.HTML object>"
      ]
     },
     "execution_count": 5,
     "metadata": {},
     "output_type": "execute_result"
    }
   ],
   "source": [
    "wc = WordCloud(background_color='black', width=800, height=480)\n",
    "wc.fit_words(df_users.country.value_counts().to_dict())\n",
    "wc.to_image().show()\n",
    "hide_toggle()"
   ]
  },
  {
   "cell_type": "markdown",
   "metadata": {},
   "source": [
    "##### The figure above shows how countries are ranked by number of users. The top countries are typically well developed western countries who speaks English either as a first or second language. The UK, Australia and Canada and all the nordic countries are also among our top Kahooters."
   ]
  },
  {
   "cell_type": "markdown",
   "metadata": {},
   "source": [
    "##### This figure does however not illustrate the ratio of users..."
   ]
  },
  {
   "cell_type": "markdown",
   "metadata": {},
   "source": [
    "##### Below are two lists, one showing the most active countries by number of users, and one showing the least active countries during this specific week."
   ]
  },
  {
   "cell_type": "code",
   "execution_count": 6,
   "metadata": {
    "tags": [
     "hidecode"
    ]
   },
   "outputs": [
    {
     "name": "stdout",
     "output_type": "stream",
     "text": [
      "10 Most active countries: country\n",
      "United States     6017\n",
      "United Kingdom     612\n",
      "Australia          335\n",
      "Canada             321\n",
      "Spain              269\n",
      "Netherlands        252\n",
      "Denmark            243\n",
      "Norway             224\n",
      "Sweden             189\n",
      "Finland            117\n",
      "dtype: int64\n",
      "\n",
      "10 least active countries: country\n",
      "Cayman Islands    1\n",
      "Panama            1\n",
      "Sudan             1\n",
      "Curaçao           1\n",
      "Morocco           1\n",
      "Greenland         1\n",
      "Nicaragua         1\n",
      "Oman              1\n",
      "Pakistan          1\n",
      "Isle of Man       1\n",
      "dtype: int64\n"
     ]
    },
    {
     "data": {
      "text/html": [
       "\n",
       "        <script>\n",
       "            function code_toggle_11049666611828429031() {\n",
       "                $('div.cell.code_cell.rendered.selected').find('div.input').toggle();\n",
       "            }\n",
       "\n",
       "            \n",
       "        </script>\n",
       "\n",
       "        <a href=\"javascript:code_toggle_11049666611828429031()\">+</a>\n",
       "    "
      ],
      "text/plain": [
       "<IPython.core.display.HTML object>"
      ]
     },
     "execution_count": 6,
     "metadata": {},
     "output_type": "execute_result"
    },
    {
     "data": {
      "image/png": "[encoded data removed]",
      "text/plain": [
       "<Figure size 432x288 with 1 Axes>"
      ]
     },
     "metadata": {},
     "output_type": "display_data"
    }
   ],
   "source": [
    "country_activity = df_users.groupby(\"country\").size().sort_values(ascending=False)\n",
    "print(f\"10 Most active countries: {country_activity[:10]}\\n\\n10 least active countries: {country_activity[-10:]}\")\n",
    "fig = country_activity.plot.pie(label=\"ratio of activity by country\")\n",
    "fig.plot()\n",
    "hide_toggle()"
   ]
  },
  {
   "cell_type": "markdown",
   "metadata": {},
   "source": [
    "##### The pie chart shows that US is by far our biggest player, with more than half our users within a given week. Other well developed western countries who speaks english, like the UK, Australia and Canada and all the nordic countries are also among our top Kahooters, but they are still far away from having the same user base."
   ]
  },
  {
   "cell_type": "markdown",
   "metadata": {},
   "source": [
    "### What type of users are there? "
   ]
  },
  {
   "cell_type": "markdown",
   "metadata": {},
   "source": [
    "##### Looking away from what country our users are from, we categorize them into 4 different types of users:"
   ]
  },
  {
   "cell_type": "code",
   "execution_count": 7,
   "metadata": {
    "tags": [
     "hidecode"
    ]
   },
   "outputs": [
    {
     "name": "stdout",
     "output_type": "stream",
     "text": [
      "types of users: \n",
      "\n",
      "teacher\n",
      "social\n",
      "student\n",
      "business\n"
     ]
    },
    {
     "data": {
      "text/html": [
       "\n",
       "        <script>\n",
       "            function code_toggle_3767919451184761088() {\n",
       "                $('div.cell.code_cell.rendered.selected').find('div.input').toggle();\n",
       "            }\n",
       "\n",
       "            \n",
       "        </script>\n",
       "\n",
       "        <a href=\"javascript:code_toggle_3767919451184761088()\">+</a>\n",
       "    "
      ],
      "text/plain": [
       "<IPython.core.display.HTML object>"
      ]
     },
     "execution_count": 7,
     "metadata": {},
     "output_type": "execute_result"
    }
   ],
   "source": [
    "print(\"types of users: \\n\")\n",
    "for user_type in df_users.primary_usage.unique():\n",
    "    if(type(user_type)!= str):\n",
    "        continue\n",
    "    print(user_type)\n",
    "hide_toggle()"
   ]
  },
  {
   "cell_type": "markdown",
   "metadata": {},
   "source": [
    "##### Looking at the ratio of the different user types tells a clear story:"
   ]
  },
  {
   "cell_type": "code",
   "execution_count": 8,
   "metadata": {
    "scrolled": true,
    "tags": [
     "hidecode"
    ]
   },
   "outputs": [
    {
     "name": "stdout",
     "output_type": "stream",
     "text": [
      "Ratio of users, grouped by user type:\n"
     ]
    },
    {
     "data": {
      "text/html": [
       "\n",
       "        <script>\n",
       "            function code_toggle_12970926659317983375() {\n",
       "                $('div.cell.code_cell.rendered.selected').find('div.input').toggle();\n",
       "            }\n",
       "\n",
       "            \n",
       "        </script>\n",
       "\n",
       "        <a href=\"javascript:code_toggle_12970926659317983375()\">+</a>\n",
       "    "
      ],
      "text/plain": [
       "<IPython.core.display.HTML object>"
      ]
     },
     "execution_count": 8,
     "metadata": {},
     "output_type": "execute_result"
    },
    {
     "data": {
      "image/png": "[encoded data removed]",
      "text/plain": [
       "<Figure size 432x288 with 1 Axes>"
      ]
     },
     "metadata": {},
     "output_type": "display_data"
    }
   ],
   "source": [
    "print(\"Ratio of users, grouped by user type:\")\n",
    "df_users.primary_usage.value_counts().plot.pie().plot()\n",
    "hide_toggle()"
   ]
  },
  {
   "cell_type": "markdown",
   "metadata": {},
   "source": [
    "##### Teachers dominate among our users, covering more than half the users within a week, with students coming in at a strong second. \n",
    "\n",
    "##### The educational use of Kahoot thus shows to be the strongest force driving Kahoot"
   ]
  },
  {
   "cell_type": "markdown",
   "metadata": {},
   "source": [
    "### How do they use Kahoot?"
   ]
  },
  {
   "cell_type": "markdown",
   "metadata": {},
   "source": [
    "##### Among our users, many of them are there just to play / attend, while others put a lot of effort into creating content for others. With a median of 2 Kahoots created for a random user, and over 15% of the users never having created a Kahoot themselves.  "
   ]
  },
  {
   "cell_type": "code",
   "execution_count": 9,
   "metadata": {},
   "outputs": [
    {
     "name": "stdout",
     "output_type": "stream",
     "text": [
      "percentage of users who never created a kahoot:\n",
      "15.8\n"
     ]
    },
    {
     "data": {
      "text/html": [
       "\n",
       "        <script>\n",
       "            function code_toggle_7954131253502779610() {\n",
       "                $('div.cell.code_cell.rendered.selected').find('div.input').toggle();\n",
       "            }\n",
       "\n",
       "            \n",
       "        </script>\n",
       "\n",
       "        <a href=\"javascript:code_toggle_7954131253502779610()\">+</a>\n",
       "    "
      ],
      "text/plain": [
       "<IPython.core.display.HTML object>"
      ]
     },
     "execution_count": 9,
     "metadata": {},
     "output_type": "execute_result"
    }
   ],
   "source": [
    "print(\"percentage of users who never created a kahoot:\")\n",
    "print(df_users[df_users.my_kahoots_count ==0].index.shape[0]/ df_users.index.shape[0]*100)\n",
    "hide_toggle()"
   ]
  },
  {
   "cell_type": "markdown",
   "metadata": {},
   "source": [
    "##### There are some users that really loves making kahoots, reaching up to values as high as 300+ kahoots created. These top creators are teachers, with a way higher engagement regarding creation of Kahoots."
   ]
  },
  {
   "cell_type": "code",
   "execution_count": 10,
   "metadata": {
    "tags": [
     "hidecode"
    ]
   },
   "outputs": [
    {
     "name": "stdout",
     "output_type": "stream",
     "text": [
      "Overview of stats of Kahoots created by teachers\n",
      "count    5461.000000\n",
      "mean       12.578649\n",
      "std        20.131852\n",
      "min         0.000000\n",
      "25%         1.000000\n",
      "50%         6.000000\n",
      "75%        16.000000\n",
      "max       326.000000\n",
      "Name: my_kahoots_count, dtype: float64\n"
     ]
    },
    {
     "data": {
      "text/html": [
       "\n",
       "        <script>\n",
       "            function code_toggle_14298783083587825786() {\n",
       "                $('div.cell.code_cell.rendered.selected').find('div.input').toggle();\n",
       "            }\n",
       "\n",
       "            \n",
       "        </script>\n",
       "\n",
       "        <a href=\"javascript:code_toggle_14298783083587825786()\">+</a>\n",
       "    "
      ],
      "text/plain": [
       "<IPython.core.display.HTML object>"
      ]
     },
     "execution_count": 10,
     "metadata": {},
     "output_type": "execute_result"
    }
   ],
   "source": [
    "print(\"Overview of stats of Kahoots created by teachers\")\n",
    "print(df_users[df_users[\"primary_usage\"]==\"teacher\"].my_kahoots_count.describe())\n",
    "hide_toggle()"
   ]
  },
  {
   "cell_type": "code",
   "execution_count": 11,
   "metadata": {
    "scrolled": true,
    "tags": [
     "hidecode"
    ]
   },
   "outputs": [
    {
     "name": "stdout",
     "output_type": "stream",
     "text": [
      "Overview of stats of Kahoots created by non teachers:\n",
      "count    3531.000000\n",
      "mean        1.864911\n",
      "std         3.088155\n",
      "min         0.000000\n",
      "25%         1.000000\n",
      "50%         1.000000\n",
      "75%         2.000000\n",
      "max        42.000000\n",
      "Name: my_kahoots_count, dtype: float64\n"
     ]
    },
    {
     "data": {
      "text/html": [
       "\n",
       "        <script>\n",
       "            function code_toggle_7467599062420246082() {\n",
       "                $('div.cell.code_cell.rendered.selected').find('div.input').toggle();\n",
       "            }\n",
       "\n",
       "            \n",
       "        </script>\n",
       "\n",
       "        <a href=\"javascript:code_toggle_7467599062420246082()\">+</a>\n",
       "    "
      ],
      "text/plain": [
       "<IPython.core.display.HTML object>"
      ]
     },
     "execution_count": 11,
     "metadata": {},
     "output_type": "execute_result"
    }
   ],
   "source": [
    "print(\"Overview of stats of Kahoots created by non teachers:\")\n",
    "print(df_users[df_users[\"primary_usage\"]!=\"teacher\"].my_kahoots_count.describe())\n",
    "hide_toggle()"
   ]
  },
  {
   "cell_type": "markdown",
   "metadata": {},
   "source": [
    "\n",
    "##### Teachers stand for over 91% of Kahoots created... Indicating that there truly is a Kahoot for the creator, and a Kahoot for the attenders..."
   ]
  },
  {
   "cell_type": "code",
   "execution_count": 12,
   "metadata": {
    "tags": [
     "hidecode"
    ]
   },
   "outputs": [
    {
     "name": "stdout",
     "output_type": "stream",
     "text": [
      "Percentage of how many Kahoots were created by teachers:\n",
      "0.9125230814192914\n"
     ]
    },
    {
     "data": {
      "text/html": [
       "\n",
       "        <script>\n",
       "            function code_toggle_167637400148229567() {\n",
       "                $('div.cell.code_cell.rendered.selected').find('div.input').toggle();\n",
       "            }\n",
       "\n",
       "            \n",
       "        </script>\n",
       "\n",
       "        <a href=\"javascript:code_toggle_167637400148229567()\">+</a>\n",
       "    "
      ],
      "text/plain": [
       "<IPython.core.display.HTML object>"
      ]
     },
     "execution_count": 12,
     "metadata": {},
     "output_type": "execute_result"
    }
   ],
   "source": [
    "print(\"Percentage of how many Kahoots were created by teachers:\")\n",
    "print(df_users[df_users[\"primary_usage\"]==\"teacher\"].my_kahoots_count.sum()/df_users.my_kahoots_count.sum())\n",
    "hide_toggle()"
   ]
  },
  {
   "cell_type": "markdown",
   "metadata": {},
   "source": [
    "##### Kahoot definetely has 1 type of users that can be considered a power user, using Kahoot in a specific way, creating lots of content for others. \n",
    "\n",
    "##### Meanwhile, the result of what these power users create are consumed by the other side (those consuming / attending the quiz..)\n",
    "\n",
    "##### One side of the product development is thus to create a great platform for the creators, and the other part is to make it interesting and enjoyable for the attendees. "
   ]
  },
  {
   "cell_type": "markdown",
   "metadata": {},
   "source": [
    "##### An impressive 97% of games joined by all users were created by teachers.... Strengthening that Kahoot is an educational platform more so than entertainment.   "
   ]
  },
  {
   "cell_type": "code",
   "execution_count": 13,
   "metadata": {
    "tags": [
     "hidecode"
    ]
   },
   "outputs": [
    {
     "name": "stdout",
     "output_type": "stream",
     "text": [
      "Percentage of how many games that were joined, were created by teachers:\n",
      "97.49614707838771\n"
     ]
    },
    {
     "data": {
      "text/html": [
       "\n",
       "        <script>\n",
       "            function code_toggle_10175171529206101409() {\n",
       "                $('div.cell.code_cell.rendered.selected').find('div.input').toggle();\n",
       "            }\n",
       "\n",
       "            \n",
       "        </script>\n",
       "\n",
       "        <a href=\"javascript:code_toggle_10175171529206101409()\">+</a>\n",
       "    "
      ],
      "text/plain": [
       "<IPython.core.display.HTML object>"
      ]
     },
     "execution_count": 13,
     "metadata": {},
     "output_type": "execute_result"
    }
   ],
   "source": [
    "print(\"Percentage of how many games that were joined, were created by teachers:\")\n",
    "print(df_users[df_users[\"primary_usage\"]==\"teacher\"].my_kahoots_players_joined_count.sum()*100 / df_users.my_kahoots_players_joined_count.sum())\n",
    "hide_toggle()"
   ]
  },
  {
   "cell_type": "markdown",
   "metadata": {},
   "source": [
    "### Why do they sign up? "
   ]
  },
  {
   "cell_type": "code",
   "execution_count": 14,
   "metadata": {
    "scrolled": false
   },
   "outputs": [
    {
     "name": "stdout",
     "output_type": "stream",
     "text": [
      "Top 20 signup domains\n",
      "domain: \tcount:\n",
      "www.google.com          2374\n",
      "kahoot.it               1962\n",
      "getkahoot.com            948\n",
      "create.kahoot.it         487\n",
      "www.google.co.uk         291\n",
      "www.bing.com             265\n",
      "kahoot.com               244\n",
      "classroom.google.com     224\n",
      "www.google.ca            143\n",
      "www.google.com.au        131\n",
      "www.google.es            122\n",
      "www.google.dk            107\n",
      "www.google.nl            105\n",
      "www.google.se             90\n",
      "www.google.no             74\n",
      "www.google.fi             48\n",
      "search.yahoo.com          48\n",
      "www.google.co.il          44\n",
      "www.google.co.nz          40\n",
      "www.google.com.tr         38\n",
      "Name: initial_referring_domain, dtype: int64\n"
     ]
    },
    {
     "data": {
      "text/html": [
       "\n",
       "        <script>\n",
       "            function code_toggle_9737468651140512719() {\n",
       "                $('div.cell.code_cell.rendered.selected').find('div.input').toggle();\n",
       "            }\n",
       "\n",
       "            \n",
       "        </script>\n",
       "\n",
       "        <a href=\"javascript:code_toggle_9737468651140512719()\">+</a>\n",
       "    "
      ],
      "text/plain": [
       "<IPython.core.display.HTML object>"
      ]
     },
     "execution_count": 14,
     "metadata": {},
     "output_type": "execute_result"
    }
   ],
   "source": [
    "print(\"Top 20 signup domains\")\n",
    "print(\"domain: \\tcount:\")\n",
    "print(df_users.initial_referring_domain.value_counts()[:20])\n",
    "hide_toggle()"
   ]
  },
  {
   "cell_type": "markdown",
   "metadata": {},
   "source": [
    "##### Most of the users signs up for Kahoot through google and other search engines. But a lot of our traffic also comes straight from own websites, such as kahoot.it and create.kahoot.it, suggesting that the user is somewhat familiar with the product when signing up. An interesting find is that the \"info/marketing page\" kahoot.com is way less frequenct than kahoot.it / create.kahoot.it, which CAN indicate that a user is not very likely to sign up just because he / she \"stumbled\" upon Kahoot, but is already familiar with the product when signing up."
   ]
  },
  {
   "cell_type": "markdown",
   "metadata": {},
   "source": [
    "### Do they come and go?"
   ]
  },
  {
   "cell_type": "markdown",
   "metadata": {},
   "source": [
    "##### Many apps struggles with either keeping users engaged over a longer period, and / or attracting new users..."
   ]
  },
  {
   "cell_type": "code",
   "execution_count": 15,
   "metadata": {},
   "outputs": [
    {
     "data": {
      "text/html": [
       "\n",
       "        <script>\n",
       "            function code_toggle_15311780882745699176() {\n",
       "                $('div.cell.code_cell.rendered.selected').find('div.input').toggle();\n",
       "            }\n",
       "\n",
       "            \n",
       "        </script>\n",
       "\n",
       "        <a href=\"javascript:code_toggle_15311780882745699176()\">+</a>\n",
       "    "
      ],
      "text/plain": [
       "<IPython.core.display.HTML object>"
      ]
     },
     "execution_count": 15,
     "metadata": {},
     "output_type": "execute_result"
    }
   ],
   "source": [
    "def convert_date(row):\n",
    "    try:\n",
    "        return \"-\".join(row.split(\"-\")[:2])\n",
    "    except:\n",
    "        return \"\"\n",
    "df_users.created = df_users.created.apply(convert_date)\n",
    "hide_toggle()"
   ]
  },
  {
   "cell_type": "markdown",
   "metadata": {},
   "source": [
    "##### Grouping users by year and month, gives us this top 10 list of year and month driving the most users: "
   ]
  },
  {
   "cell_type": "code",
   "execution_count": 16,
   "metadata": {
    "scrolled": true
   },
   "outputs": [
    {
     "name": "stdout",
     "output_type": "stream",
     "text": [
      "created\n",
      "2017-05    2802\n",
      "           1032\n",
      "2017-04     627\n",
      "2017-03     423\n",
      "2016-09     335\n",
      "2016-11     305\n",
      "2017-02     296\n",
      "2016-10     275\n",
      "2016-12     257\n",
      "2017-01     246\n",
      "dtype: int64\n"
     ]
    },
    {
     "data": {
      "text/html": [
       "\n",
       "        <script>\n",
       "            function code_toggle_5897240904219946404() {\n",
       "                $('div.cell.code_cell.rendered.selected').find('div.input').toggle();\n",
       "            }\n",
       "\n",
       "            \n",
       "        </script>\n",
       "\n",
       "        <a href=\"javascript:code_toggle_5897240904219946404()\">+</a>\n",
       "    "
      ],
      "text/plain": [
       "<IPython.core.display.HTML object>"
      ]
     },
     "execution_count": 16,
     "metadata": {},
     "output_type": "execute_result"
    }
   ],
   "source": [
    "print(df_users.groupby(\"created\").size().sort_values(ascending=False)[:10])\n",
    "hide_toggle()"
   ]
  },
  {
   "cell_type": "markdown",
   "metadata": {},
   "source": [
    "##### Most of the users are from the current month, but there is definitely a tail from users that registered the previous months, and keeps playing. "
   ]
  },
  {
   "cell_type": "code",
   "execution_count": 17,
   "metadata": {},
   "outputs": [
    {
     "data": {
      "text/html": [
       "\n",
       "        <script>\n",
       "            function code_toggle_2455252867991353445() {\n",
       "                $('div.cell.code_cell.rendered.selected').find('div.input').toggle();\n",
       "            }\n",
       "\n",
       "            \n",
       "        </script>\n",
       "\n",
       "        <a href=\"javascript:code_toggle_2455252867991353445()\">+</a>\n",
       "    "
      ],
      "text/plain": [
       "<IPython.core.display.HTML object>"
      ]
     },
     "execution_count": 17,
     "metadata": {},
     "output_type": "execute_result"
    }
   ],
   "source": [
    "def convert_date_to_year(row):\n",
    "    try:\n",
    "        return row.split(\"-\")[0]\n",
    "    except:\n",
    "        return \"\"\n",
    "df_users.created = df_users.created.apply(convert_date_to_year)\n",
    "hide_toggle()"
   ]
  },
  {
   "cell_type": "code",
   "execution_count": 18,
   "metadata": {},
   "outputs": [
    {
     "name": "stdout",
     "output_type": "stream",
     "text": [
      "Ratio of when active users created their accounts...\n"
     ]
    },
    {
     "data": {
      "text/html": [
       "\n",
       "        <script>\n",
       "            function code_toggle_6565502325946136858() {\n",
       "                $('div.cell.code_cell.rendered.selected').find('div.input').toggle();\n",
       "            }\n",
       "\n",
       "            \n",
       "        </script>\n",
       "\n",
       "        <a href=\"javascript:code_toggle_6565502325946136858()\">+</a>\n",
       "    "
      ],
      "text/plain": [
       "<IPython.core.display.HTML object>"
      ]
     },
     "execution_count": 18,
     "metadata": {},
     "output_type": "execute_result"
    },
    {
     "data": {
      "image/png": "[encoded data removed]",
      "text/plain": [
       "<Figure size 432x288 with 1 Axes>"
      ]
     },
     "metadata": {},
     "output_type": "display_data"
    }
   ],
   "source": [
    "print(\"Ratio of when active users created their accounts...\")\n",
    "df_users.created.value_counts().plot.pie().plot()\n",
    "hide_toggle()"
   ]
  },
  {
   "cell_type": "markdown",
   "metadata": {},
   "source": [
    "#### Looking at the pie chart above, one can see that a lot of the users created their accounts a long time ago. Looking at those users that registered at least 6 months ago we find that they account for about 53% of the active users!"
   ]
  },
  {
   "cell_type": "code",
   "execution_count": 19,
   "metadata": {},
   "outputs": [
    {
     "name": "stdout",
     "output_type": "stream",
     "text": [
      "Percentage of users active this week, that registered more than 6 months ago: \n",
      "56.03\n"
     ]
    },
    {
     "data": {
      "text/html": [
       "\n",
       "        <script>\n",
       "            function code_toggle_4243968839950118663() {\n",
       "                $('div.cell.code_cell.rendered.selected').find('div.input').toggle();\n",
       "            }\n",
       "\n",
       "            \n",
       "        </script>\n",
       "\n",
       "        <a href=\"javascript:code_toggle_4243968839950118663()\">+</a>\n",
       "    "
      ],
      "text/plain": [
       "<IPython.core.display.HTML object>"
      ]
     },
     "execution_count": 19,
     "metadata": {},
     "output_type": "execute_result"
    }
   ],
   "source": [
    "print(\"Percentage of users active this week, that registered more than 6 months ago: \")\n",
    "old_users = df_users[df_users[\"created\"] <= \"2016-11\"]\n",
    "print(100* old_users.shape[0]/ df_users.shape[0])\n",
    "hide_toggle()"
   ]
  },
  {
   "cell_type": "markdown",
   "metadata": {},
   "source": [
    "##### This is highly valuable, indicating that there is a great mixture between new users, and older users that have found good use of the product..."
   ]
  },
  {
   "cell_type": "markdown",
   "metadata": {},
   "source": [
    "##### Looking closer at this data, it turns out that teachers finds high value in the product, and becomes engaging users that stays. More than 75% of the \"old\" users are teachers.."
   ]
  },
  {
   "cell_type": "code",
   "execution_count": 20,
   "metadata": {},
   "outputs": [
    {
     "name": "stdout",
     "output_type": "stream",
     "text": [
      "Ratio of types of \"old\" users\n"
     ]
    },
    {
     "data": {
      "text/html": [
       "\n",
       "        <script>\n",
       "            function code_toggle_16166722920244147064() {\n",
       "                $('div.cell.code_cell.rendered.selected').find('div.input').toggle();\n",
       "            }\n",
       "\n",
       "            \n",
       "        </script>\n",
       "\n",
       "        <a href=\"javascript:code_toggle_16166722920244147064()\">+</a>\n",
       "    "
      ],
      "text/plain": [
       "<IPython.core.display.HTML object>"
      ]
     },
     "execution_count": 20,
     "metadata": {},
     "output_type": "execute_result"
    },
    {
     "data": {
      "image/png": "[encoded data removed]",
      "text/plain": [
       "<Figure size 432x288 with 1 Axes>"
      ]
     },
     "metadata": {},
     "output_type": "display_data"
    }
   ],
   "source": [
    "print('Ratio of types of \"old\" users')\n",
    "old_users.primary_usage.value_counts().plot.pie().plot()\n",
    "hide_toggle()"
   ]
  },
  {
   "cell_type": "markdown",
   "metadata": {},
   "source": [
    "##### This resonates well with the thoughts about teacher's being power users, and that Kahoot has built a product that delivers value to educational environments.."
   ]
  },
  {
   "cell_type": "markdown",
   "metadata": {},
   "source": [
    "I could keep diving into data for quite some time, looking at differences between app-usage and browser usage, raising and answering new questions, but this case challenge has been pretty time extensive. Let's summarize...."
   ]
  },
  {
   "cell_type": "markdown",
   "metadata": {},
   "source": [
    "## Summary/Conclusion\n",
    "\n",
    "Kahoot is a global company, reaching users in more than 100 countries. But even though the reach is big, the western market dominates, with US being the biggest. \n",
    "\n",
    "There are four types of users:\n",
    "* teachers\n",
    "* students\n",
    "* social\n",
    "* business\n",
    "\n",
    "But we can divide them on an even more abstract level:\n",
    "* creators\n",
    "* players / attenders\n",
    "\n",
    "Most of the active users are teachers, and most of the content available on Kahoot is created by teachers. Around 97% of the users that joined a Kahoot, joined a Kahoot created by a teacher. So even if \"social\" is a type of user, the type of games played are weighted towards the educational.\n",
    "However, this mix of social and educational CAN indicate that the user base is interested in involving more \"fun\" in learning. \n",
    "\n",
    "Teachers are the power users off Kahoot, and I would guess (my intuition only) that most of the revenue Kahoot generates are from teachers, in the US. \n",
    "\n",
    "Users mostly sign up because they have a direct motivation (joining a game, or creating a kahoot), which indicates that they have prior knowledge to what Kahoot is when signing up. \n",
    "\n",
    "Kahoot has a good mix of new users and users that have stayed with the product for a long time. A huge ratio of the old users (>75%) are teachers. More than half of the active users for the given week had signed up atleast 6 months ago, with some dating as far back as 2013....\n",
    "\n",
    "Having such a mix indicates that Kahoot has a valuable product, with the potential to grow further with the correct efforts... "
   ]
  },
  {
   "cell_type": "markdown",
   "metadata": {},
   "source": [
    "Extra: \n",
    "\n",
    "Looking into the reach of the most \"popular\" users, the largest audience a Kahooter has reached out to is 26.000 users.  \n",
    "This tells me that the users aren't doing this for engagement with just about anyone (like on youtube / tiktok), but that the users are interested in providing something to a \"closer\" social circle. I imagine these top \"popular\" kahooters are teachers at universities that have lectures with many hundred students each class. This is supported by looking at the top performing user, a teacher from Oxford, who has been a Kahooter since 2014..."
   ]
  },
  {
   "cell_type": "code",
   "execution_count": 21,
   "metadata": {},
   "outputs": [
    {
     "data": {
      "text/plain": [
       "user_id\n",
       "1779    26059.0\n",
       "9989    21294.0\n",
       "4617    19411.0\n",
       "5836    19350.0\n",
       "462     18419.0\n",
       "         ...   \n",
       "9114     5529.0\n",
       "5012     5479.0\n",
       "3171     5473.0\n",
       "1627     5472.0\n",
       "2335     5420.0\n",
       "Name: my_kahoots_players_joined_count, Length: 100, dtype: float64"
      ]
     },
     "execution_count": 21,
     "metadata": {},
     "output_type": "execute_result"
    }
   ],
   "source": [
    "df_users.my_kahoots_players_joined_count.sort_values(ascending=False)[:100]"
   ]
  },
  {
   "cell_type": "code",
   "execution_count": 22,
   "metadata": {},
   "outputs": [
    {
     "data": {
      "text/plain": [
       "city                                             Oxford\n",
       "country                                   United States\n",
       "device                                              Mac\n",
       "device_type                                         Mac\n",
       "dma                                      Birmingham, AL\n",
       "language                                        English\n",
       "browser                                       Chrome 53\n",
       "region                                          Alabama\n",
       "created                                            2014\n",
       "initial_referring_domain                 www.google.com\n",
       "initial_utm_campaign                                NaN\n",
       "initial_utm_content                                 NaN\n",
       "initial_utm_medium                                  NaN\n",
       "initial_utm_source                                  NaN\n",
       "kahoots_favourited_by_me_count                      2.0\n",
       "kahoots_shared_with_me_count                        0.0\n",
       "my_kahoots_answers_received_count              247619.0\n",
       "my_kahoots_count                                   32.0\n",
       "my_kahoots_favourited_by_anyone_count             521.0\n",
       "my_kahoots_played_by_anyone_count                1735.0\n",
       "my_kahoots_players_joined_count                 26059.0\n",
       "my_kahoots_questions_count                        305.0\n",
       "my_kahoots_shared_by_anyone_count                  14.0\n",
       "primary_usage                                   teacher\n",
       "Name: 1779, dtype: object"
      ]
     },
     "execution_count": 22,
     "metadata": {},
     "output_type": "execute_result"
    }
   ],
   "source": [
    "df_users.iloc[1778]"
   ]
  }
 ],
 "metadata": {
  "kernelspec": {
   "display_name": "Python 3 (ipykernel)",
   "language": "python",
   "name": "python3"
  },
  "language_info": {
   "codemirror_mode": {
    "name": "ipython",
    "version": 3
   },
   "file_extension": ".py",
   "mimetype": "text/x-python",
   "name": "python",
   "nbconvert_exporter": "python",
   "pygments_lexer": "ipython3",
   "version": "3.8.5"
  }
 },
 "nbformat": 4,
 "nbformat_minor": 4
}
